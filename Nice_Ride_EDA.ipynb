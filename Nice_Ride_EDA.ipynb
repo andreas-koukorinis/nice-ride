{
  "cells": [
    {
      "metadata": {
        "_uuid": "8f2839f25d086af736a60e9eeb907d3b93b6e0e5",
        "_cell_guid": "b1076dfc-b9ad-4769-8c92-a6c4dae69d19",
        "trusted": true,
        "collapsed": true
      },
      "cell_type": "markdown",
      "source": "# Nice Ride Bike Share Exploratory Data Analysis"
    },
    {
      "metadata": {
        "_uuid": "443ac9e9978e2d62860a75057dd79ad7dd0ce0ae"
      },
      "cell_type": "markdown",
      "source": "TODO: description / intro...\n\nNice Ride MN shares their [historical system data](https://www.niceridemn.org/data/)\n\n## Outline\n- [Data Loading and Cleaning](#loading-and-cleaning)\n- [Station Locations](#station-locations)\n- [Number of Bike Docks per Station](#number-of-docks)\n- [Station Demand](#station-demand)\n    - [Difference in demand](#difference-in-demand)\n    - [Difference in demand over time](#demand-over-time)\n    - [Cumulative difference in demand](#cumulative-difference)\n    - [Optimal initial number of bikes](#optimal-initial-number)\n    - [Demand Range](#demand-range)\n- [Flow](#flow)\n- [Ride Season](#ride-season)\n- [Ride durations](#ride-durations)\n- [Weather](#weather)\n- [Traffic dependence on season](#dependence-on-season)\n- [Memberships](#memberships)"
    },
    {
      "metadata": {
        "_cell_guid": "79c7e3d0-c299-4dcb-8224-4455121ee9b0",
        "_uuid": "d629ff2d2480ee46fbb7e2d37f6b5fab8052498a",
        "trusted": true,
        "collapsed": true
      },
      "cell_type": "code",
      "source": "# Packages\nimport numpy as np\nimport pandas as pd\nimport matplotlib.pyplot as plt\nimport seaborn as sns\n\n# Matplotlib settings\n%matplotlib inline\n%config InlineBackend.figure_format = 'svg'\nsns.set()\n\n# Bokeh settings\nfrom bokeh.plotting import figure, show\nfrom bokeh.io import output_notebook\nfrom bokeh.models import ColumnDataSource, Circle, HoverTool, ColorBar, LinearColorMapper, CustomJS, Slider\nfrom bokeh.palettes import Viridis256, brewer\nfrom bokeh.tile_providers import CARTODBPOSITRON_RETINA\nfrom bokeh.models.widgets import Panel, Tabs\nfrom bokeh.layouts import column\nfig_height = 500\nfig_width = 800\noutput_notebook()",
      "execution_count": null,
      "outputs": []
    },
    {
      "metadata": {
        "_uuid": "5895ec2234a282986040b501b1e2d37f938d2620"
      },
      "cell_type": "markdown",
      "source": "<a id='loading-and-cleaning'></a>\n## Data Loading and Cleaning\n\nFirst, let's load the data and take a look at the data to see if it needs any cleaning."
    },
    {
      "metadata": {
        "trusted": true,
        "_uuid": "b281075e5c141f7799ec6bbba46618fc8b32a88b",
        "collapsed": true
      },
      "cell_type": "code",
      "source": "# Load data\nstations = pd.read_csv('../input/Nice_Ride_2017_Station_Locations.csv')\ntrips = pd.read_csv('../input/Nice_ride_trip_history_2017_season.csv')",
      "execution_count": null,
      "outputs": []
    },
    {
      "metadata": {
        "trusted": true,
        "_uuid": "5a288ab07e21f026613e1643f1a51a58b2101779",
        "collapsed": true
      },
      "cell_type": "code",
      "source": "# Show some of the stations data\nstations.sample(n=5)",
      "execution_count": null,
      "outputs": []
    },
    {
      "metadata": {
        "trusted": true,
        "_uuid": "fe2f3ca967dc2c68827ae1ba8ee3d0f6535f02f2",
        "collapsed": true
      },
      "cell_type": "code",
      "source": "# Print info about each column\nfor col in stations:\n    print('\\n',col,'\\nNulls:',stations[col].isnull().sum(),'\\n',stations[col].describe())",
      "execution_count": null,
      "outputs": []
    },
    {
      "metadata": {
        "_uuid": "7630cca1eccb7936506fa831eedf8f8586a877b9"
      },
      "cell_type": "markdown",
      "source": "The stations dataset looks pretty clean - no missing values, and the latitude, longitude, and number of docks loaded as expected.  The only anomaly was that the last station ID number was a string ('NRHQ'), while all the others were integers.  But that's fine - pandas will just treat that column as a categorical object, which is what we want anyway.  \n\nWhat about the trip data?"
    },
    {
      "metadata": {
        "trusted": true,
        "_uuid": "c60ce55d79d6d0c09e0fc12011263ca3f16cb73c",
        "collapsed": true
      },
      "cell_type": "code",
      "source": "# Show some of the trip data\ntrips.sample(n=5)",
      "execution_count": null,
      "outputs": []
    },
    {
      "metadata": {
        "trusted": true,
        "_uuid": "28b76f59811545c6418a6ef170082a3fe95d96c2",
        "collapsed": true
      },
      "cell_type": "code",
      "source": "# Print info about each column\nfor col in trips:\n    print('\\n',col,'\\nNulls:',trips[col].isnull().sum(),'\\n',trips[col].describe())",
      "execution_count": null,
      "outputs": []
    },
    {
      "metadata": {
        "_uuid": "7a972a9ec8f989360de0e68f52ff682ec486802e"
      },
      "cell_type": "markdown",
      "source": "The trips dataset looks pretty clean too.  The only anomalies I noticed were that there was a weird third Account type, and the dates were loaded as objects (instead of dates).\n\nThe possible types of accounts are \"Member\", \"Casual\" (which presumably just means non-member), and \"Inconnu\" (which I assume represents [\"unknown\"](https://en.wiktionary.org/wiki/inconnu#French) and not [the fish](https://en.wiktionary.org/wiki/inconnu#English)!).  But there were only two entries w/ an account type of \"Inconnu\", so we'll just set those entries to be \"Casual\" so that we only have members and non-members."
    },
    {
      "metadata": {
        "trusted": true,
        "_uuid": "329277a7c1871c0d657ffc418b1d8e6530e25919",
        "collapsed": true
      },
      "cell_type": "code",
      "source": "# Plot types of accounts in the trips dataset\nax = sns.countplot(x='Account type', data=trips)\nplt.title('Account types')\nfor p in ax.patches:\n    x = p.get_bbox().get_points()[:,0]\n    y = p.get_bbox().get_points()[1,1]\n    ax.annotate('%d' % (y), (x.mean(), y), \n                ha='center', va='bottom')\nplt.show()",
      "execution_count": null,
      "outputs": []
    },
    {
      "metadata": {
        "trusted": true,
        "collapsed": true,
        "_uuid": "ac59ddd256005c09b7775fc471f757c6f3683fed"
      },
      "cell_type": "code",
      "source": "# Set \"Inconnu\" memberships to \"Casual\"\ntrips.loc[trips['Account type']=='Inconnu', 'Account type'] = 'Casual'",
      "execution_count": null,
      "outputs": []
    },
    {
      "metadata": {
        "_uuid": "5024443910180a4d45085b7890d14a3c11b98415"
      },
      "cell_type": "markdown",
      "source": "Another small probem with the trips datset was that the trip start and end dates were loaded as generic objects, instead of dates.  Since we'll want to work with them as date/times, we'll convert them to the datetime datatype:"
    },
    {
      "metadata": {
        "trusted": true,
        "collapsed": true,
        "_uuid": "b5477460b92b61a4084be96d623f2cdef4a33673"
      },
      "cell_type": "code",
      "source": "# Convert start and end times to datetime\nfor col in ['End date', 'Start date']:\n    trips[col] = pd.to_datetime(trips[col])",
      "execution_count": null,
      "outputs": []
    },
    {
      "metadata": {
        "_uuid": "45b60ea26eae5fc5365a958c9bcd953664509175"
      },
      "cell_type": "markdown",
      "source": "<a id='station-locations'></a>\n## Station Locations\n\nLet's plot the Nice Ride station locations on a map.  We'll use [Bokeh](https://bokeh.pydata.org/en/latest/) to display a map of the station locations.  To plot them on a map, however, we'll first have to transform the station locations from latitude+longitude coordinates to [Mercator (UTM) coordinates](https://en.wikipedia.org/wiki/Universal_Transverse_Mercator_coordinate_system), and make a function which generates a plot of points on the map."
    },
    {
      "metadata": {
        "trusted": true,
        "_uuid": "338e5e6febc47c492a0807a6a89b25a40f7a6762",
        "collapsed": true
      },
      "cell_type": "code",
      "source": "def lat_to_mercY(lat):\n    \"\"\"Convert Latitude to Mercator Y\"\"\"\n    return np.log(np.tan(np.pi/4+np.radians(lat)/2))*6378137.0\n\ndef lon_to_mercX(lon):\n    \"\"\"Convert Longitude to Mercator X\"\"\"\n    return np.radians(lon)*6378137.0\n\ndef MapPoints(lat, lon, size=10, color=\"green\", alpha=0.8, \n              padding=0.1, tooltips=None, title=None, \n              width=None, height=None, clims=None,\n              palette=Viridis256, symmetric_color=False):\n    \"\"\"Bokeh plot of points overlayed on a map\"\"\"\n    \n    # Convert lat,lon to UTM coordinates\n    X = lon_to_mercX(lon)\n    Y = lat_to_mercY(lat)\n    \n    # Set marker sizes\n    if type(size) is int or type(size) is float:\n        size = size*np.ones(len(lat))\n    \n    # Data source table for Bokeh\n    source = ColumnDataSource(data=dict(\n        X = X,\n        Y = Y,\n        size = size\n    ))\n    \n    # Color limits\n    if type(color) is not str:\n        if clims is None:\n            if symmetric_color:\n                cmin = -max(abs(color))\n                cmax = max(abs(color))\n            else:\n                cmin = min(color)\n                cmax = max(color)\n        else:\n            cmin = clims[0]\n            cmax = clims[1]\n            \n    # Set marker colors\n    if type(color) is not str: #map colors to a colormap\n        source.add(color, 'color') #add to source table\n        mapper = LinearColorMapper(palette=palette, \n                                   low=cmin, \n                                   high=cmax)\n        color = {'field': 'color', 'transform': mapper}\n            \n    # Plot the points\n    p = figure(tools=\"pan,wheel_zoom,reset,hover,save\", \n               active_scroll=\"wheel_zoom\")\n    p.add_tile(CARTODBPOSITRON_RETINA) #set background map\n    p.circle('X', 'Y', source=source, size='size', \n             fill_color=color, fill_alpha=alpha, \n             line_color=None) #plot each station\n    p.axis.visible = False\n    \n    # Colorbar\n    if type(color) is not str:\n        color_bar = ColorBar(color_mapper=mapper, \n                             location=(0, 0))\n        p.add_layout(color_bar, 'right')\n        \n    # Tool tips\n    if tooltips is not None:\n        for T in tooltips: #add to Bokeh data source\n            source.add(T[1].values.tolist(), name=T[0])\n        hover = p.select_one(HoverTool) #set hover values\n        hover.tooltips=[(T[0], \"@\"+T[0]) for T in tooltips]\n        \n    # Title\n    if title is not None:\n        p.title.text = title\n        \n    # Figure height\n    if height is not None:\n        p.plot_height = height\n        \n    # Figure width\n    if width is not None:\n        p.plot_width = width\n    \n    return p, source",
      "execution_count": null,
      "outputs": []
    },
    {
      "metadata": {
        "trusted": true,
        "_uuid": "0d2bd5e082f7343758eb3b02b4b78cce43065029",
        "collapsed": true
      },
      "cell_type": "code",
      "source": "# On hover, show Station name\ntooltips = [(\"Station\", stations['Name'])]\n\n# Plot the stations\np, _ = MapPoints(stations.Latitude, stations.Longitude, \n                 title=\"Nice Ride Station Locations\",\n                 tooltips=tooltips,\n                 height=fig_height, width=fig_width)\n\nshow(p)",
      "execution_count": null,
      "outputs": []
    },
    {
      "metadata": {
        "_uuid": "fb1e5932717cfc2aee940a4781686a13cdc22636"
      },
      "cell_type": "markdown",
      "source": "Looks like most of the stations are scattered around Minneapolis, but there's also a cluster in downtown St. Paul, and several stations along University Ave and Grand Ave, which connect Minneapolis and St. Paul."
    },
    {
      "metadata": {
        "_uuid": "fe98719536aff1cea32d0757dc2bd3e56140d5d4"
      },
      "cell_type": "markdown",
      "source": "<a id='number-of-docks'></a>\n## Number of Bike Docks per Station\n\nEach station has a certain number of docks which people can rent bikes from or return them to at the end of their rentals.  How many docks do Nice Ride stations usually have?  We can plot a histogram of the number of docks at each station to get an idea of that distribution."
    },
    {
      "metadata": {
        "trusted": true,
        "_uuid": "ffb97a11c7470458a6ca33355b0bf72a5068d7e5",
        "collapsed": true
      },
      "cell_type": "code",
      "source": "# Plot histogram of # docks at each station \nplt.figure()\nplt.hist(stations['Total docks'], \n         bins=np.arange(0.5, 42.5, 1.))\nplt.ylabel('Number of Stations')\nplt.xlabel('Number of Docks')\nplt.title('Number of Docks Distribution')\nplt.show()",
      "execution_count": null,
      "outputs": []
    },
    {
      "metadata": {
        "_uuid": "62ed83ea7df25afa4f5348d48d1d8e2f86be9c36"
      },
      "cell_type": "markdown",
      "source": "It looks like 15 is the standard station size, but with additional 4-dock add-ons (since there's also a bunch of stations with 19 docks, then less with 23, etc).  If the docks are most available/cheapest with 15-plus-increments-of-4 docks, then we'll have to take that into consideration later on, when we try to optimize the number of docks at each station.\n\nWhich stations have what number of docks, and how are those docks distributed geographically?  We can again plot the station locations, but now we'll also use the color and size of the station marker to indicate how many docks are at that station."
    },
    {
      "metadata": {
        "trusted": true,
        "_uuid": "877cbef0ac71e005d0206508bfecfdf237810745",
        "collapsed": true
      },
      "cell_type": "code",
      "source": "# On hover, show Station name and the number of docks\ntooltips = [(\"Station\", stations['Name']), \n            (\"Docks\", stations['Total docks'])]\n\n# Plot the stations\np, _ = MapPoints(stations.Latitude, stations.Longitude, \n                 tooltips=tooltips, color=stations['Total docks'],\n                 size=4*np.sqrt(stations['Total docks']/np.pi),\n                 title=\"Number of Docks at each Station\",\n                 height=fig_height, width=fig_width)\n\nshow(p)",
      "execution_count": null,
      "outputs": []
    },
    {
      "metadata": {
        "_uuid": "32f46d4a7702d46678e10d5bc4833968db64f6f6"
      },
      "cell_type": "markdown",
      "source": "<a id='station-demand'></a>\n## Station Demand\n\nLet's also take a look at the demand at each station.  What I mean by that is the number of bikes which users take from each station and leave at each station.  By grouping the trips dataset by the station name and counting the number of trips in each group, we can find how many trips have left from or ended at each station."
    },
    {
      "metadata": {
        "trusted": true,
        "_uuid": "430efd20ef7540210e61150df818e70517c876dc",
        "collapsed": true
      },
      "cell_type": "code",
      "source": "# Count incoming and outgoing trips for each station\ndemand_df = pd.DataFrame({'Outbound trips': trips.groupby('Start station').size(),\n                          'Inbound trips': trips.groupby('End station').size()\n                      })\ndemand_df['Name'] = demand_df.index\nsdf = stations.merge(demand_df, on='Name')",
      "execution_count": null,
      "outputs": []
    },
    {
      "metadata": {
        "_uuid": "24443db581516d7c269a35f32638f86c9bf64874"
      },
      "cell_type": "markdown",
      "source": "How many trips are started from each station?  We'll take a look at the distribution (as a histogram) and then plot the number of trips started from each station on a map."
    },
    {
      "metadata": {
        "trusted": true,
        "_uuid": "e7cde53540ae0d843833fc4979bd73b66067c4d5",
        "collapsed": true
      },
      "cell_type": "code",
      "source": "# Plot num trips started from each station \nplt.figure()\nplt.hist(sdf['Outbound trips'], bins=20)\nplt.ylabel('Number of Stations')\nplt.xlabel('Number of outbound rentals')\nplt.title('Outbound trip distribution')\nplt.show()",
      "execution_count": null,
      "outputs": []
    },
    {
      "metadata": {
        "_uuid": "c1a80bdfe034933a13f0b4822be2bfac5678b7f9"
      },
      "cell_type": "markdown",
      "source": "And the number of trips which *end* at each station?"
    },
    {
      "metadata": {
        "trusted": true,
        "_uuid": "38584eaeb55410bed26d529e99964f929b6a8c69",
        "collapsed": true
      },
      "cell_type": "code",
      "source": "# Plot num trips started from each station \nplt.figure()\nplt.hist(sdf['Inbound trips'], bins=20)\nplt.ylabel('Number of Stations')\nplt.xlabel('Number of inbound rentals')\nplt.title('Inbound trip distribution')\nplt.show()",
      "execution_count": null,
      "outputs": []
    },
    {
      "metadata": {
        "_uuid": "c02b15933ec15e4ab27e5142e958b3d77e194348"
      },
      "cell_type": "markdown",
      "source": "Nice Ride MN has to re-distribute bikes from stations which have extra bikes to stations which don't have enough.  Stations which have more rides ending at that station than starting there will end up with extra bikes, and Nice Ride will have to re-distribute those extra bikes to the stations which are more empty!  What does this distribution look like? That is, which stations have more rides ending at that station than starting there, or vice versa? "
    },
    {
      "metadata": {
        "trusted": true,
        "_uuid": "51f84455a4a41b3e2067bd4c17c99dfc46f09a86",
        "collapsed": true
      },
      "cell_type": "code",
      "source": "# Compute the DIFFERENCE between #incoming and #outgoing trips\nsdf['demand_diff'] = sdf['Inbound trips']-sdf['Outbound trips']\n\n# Sanity / valid data check\nprint('Number of outbound trips: %d' % (sdf['Outbound trips'].sum()))\nprint('Number of inbound trips: %d' % (sdf['Inbound trips'].sum()))\n\n# Plot histogram of difference in demand\nplt.figure()\nplt.hist(sdf['demand_diff'], bins=20)\nplt.ylabel('Number of Stations')\nplt.xlabel('Num Inbound - Num Outbound trips')\nplt.title('Distribution of Demand Difference')\nplt.show()",
      "execution_count": null,
      "outputs": []
    },
    {
      "metadata": {
        "_uuid": "b1cab65c37778ce744134e07507a8fe1812d6983"
      },
      "cell_type": "markdown",
      "source": "Luckily most stations have about as many rides ending there as starting from that station.  However, there are definitely a few stations which are imbalanced!  That is, there are some stations which have more rides which end there than start there, or vice-versa.  But which ones are those?\n\nWe can plot these distributions on a map to see which are the imbalanced stations.  We'll use Bokeh to plot the number of outbound trips, inbound trips, and the difference in demand in three separate tabs.  The color and area of the circles represent the vaue (number of outbound trips, inbound trips, or the difference) in the corresponding tab.  For the \"Difference\", the size of the circle represents the *absolute* difference (so we can see which stations are the most imbalanced, and the color tells us in which direction they are imbalanced)."
    },
    {
      "metadata": {
        "trusted": true,
        "_uuid": "66afee841dfa7fb32b6a5e1f51bf8b99a5ce4e06",
        "collapsed": true
      },
      "cell_type": "code",
      "source": "# On hover, show station info\ntooltips = [(\"Station\", sdf['Name']), #show on hover\n            (\"Docks\", sdf['Total docks']), \n            (\"Num_Outbound\", sdf['Outbound trips']),\n            (\"Num_Inbound\", sdf['Inbound trips']),\n            (\"Inbound_minus_Outbound\", sdf['demand_diff'])]\n\n# Outbound trips \np1, _ = MapPoints(sdf.Latitude, sdf.Longitude, \n                  tooltips=tooltips, color=sdf['Outbound trips'],\n                  size=0.3*np.sqrt(sdf['Outbound trips']/np.pi),\n                  title=\"Number of Outbound Trips\",\n                  height=fig_height, width=fig_width)\ntab1 = Panel(child=p1, title=\"Outbound\")\n\n# Inbound trips\np2, _ = MapPoints(sdf.Latitude, sdf.Longitude, \n                  tooltips=tooltips, color=sdf['Inbound trips'],\n                  size=0.3*np.sqrt(sdf['Inbound trips']/np.pi),\n                  title=\"Number of Inbound Trips\",\n                  height=fig_height, width=fig_width)\ntab2 = Panel(child=p2, title=\"Inbound\")\n\n# Difference in demand (Inbound - Outbound) trips\np3, _ = MapPoints(sdf.Latitude, sdf.Longitude, \n                  tooltips=tooltips, color=sdf['demand_diff'],\n                  size=1*np.sqrt(np.abs(sdf['demand_diff'])/np.pi),\n                  title=\"Inbound - Outbound Trips\",\n                  palette=brewer['Spectral'][11], #divergent palette\n                  symmetric_color=True, #centered @ 0\n                  height=fig_height, width=fig_width)\ntab3 = Panel(child=p3, title=\"Difference\")\n\nshow(Tabs(tabs=[tab1, tab2, tab3]))",
      "execution_count": null,
      "outputs": []
    },
    {
      "metadata": {
        "_uuid": "81fcab70ec6006cddc6182fff6f7238cfdc901ed"
      },
      "cell_type": "markdown",
      "source": "In the \"Difference\" tab, we can immediately identify some problem stations.  There are some stations at which far more people are ending their trips than starting them (e.g. the station at Lake St & Knox Ave, at the northeast corner of Bde Maka Ska, or the Minnehaha Park station).  There are also stations at which far more people are *starting* their trips than ending them (e.g. the stations at Coffman Union and Wiley Hall on the Univeristy of Minnesota campus).  But the majority of stations have about as many inbound as outbound rides (e.g. the two stations by Como Lake, which you can barely see on the differences map!).  \n\nPlotting the difference in demand by location also reveals an interesting rental flow pattern: it appears that, on average, more rides start from downtown Minneapolis or the U of M campus and go away from downtown.  Notice how there's a lot of large blue circles (stations with more outbound rides) clustered around downtown Minneapolis, but most of the large red circles (stations with more inbound rides) lie away from downtown, and tend to be \"destinations\" and parks (such as Minnehaha Park, Bde Maka Ska, Logan Park, and North Mississippi Regional Park)\n\n<a id='difference-in-demand'></a>\n### Difference in demand\n\nIs this difference in demand going to be a problem for Nice Ride?  Ideally, Nice Ride will want to have more docks at stations where there is large difference between the number of incoming and outgoing rides.  This is because if more rides are starting at a given station than ending there, the number of bikes at that station will decrease as the day goes on.  So, there needs to be enough docks at that station to hold enough bikes so the station isn't empty by the end of the day!  On the other hand, if more rides are *ending* at a station than are beginning there, all the docks at that station will fill up and people won't be able to end their rides there!  So those stations must have enough docks to absorb the amount of incoming traffic over the course of a day.\n\nStations which have a good balance of the number of rides coming in to the number of rides going out don't need quite as many docks - because about as many bikes are being taken from that station as are being left there.  Of course, there's also the issue of time - some stations may see different demand depending on the time of day, week, or season - but we'll get to that later. With a good match of the number of docks at each station to the difference between incoming and outgoing trips, Nice Ride won't have to spend as much time during prime riding hours re-distributing bikes from low-demand stations (with extra unused bikes) to high-demand stations (with not enough bikes!).  How well does this distribution of demand differences match up with the distribution of the number of docks at each station? "
    },
    {
      "metadata": {
        "trusted": true,
        "_uuid": "f581781cba8d84e64fd85674a04dcf4cd8d87744",
        "scrolled": false,
        "collapsed": true
      },
      "cell_type": "code",
      "source": "# Compute the ABSOLUTE difference between #incoming and #outgoing trips\nsdf['abs_diff'] = sdf['demand_diff'].abs()\n\n# Distributions of docks and absolute demand difference across stations\nsdf['Docks'] = sdf['Total docks']/sdf['Total docks'].sum()\nsdf['DemandDiff'] = sdf['abs_diff']/sdf['abs_diff'].sum()\n\n# Demand direction (more outgoing vs incoming)\nsdf['demand_dir'] = sdf['Name']\nsdf.loc[sdf['demand_diff']<0, 'demand_dir'] = 'More Outgoing'\nsdf.loc[sdf['demand_diff']>0, 'demand_dir'] = 'More Incoming'\nsdf.loc[sdf['demand_diff']==0, 'demand_dir'] = 'Balanced'\n\n# Tidy the data for seaborn\ntidified = (\n    sdf[['Name', 'Docks', 'DemandDiff']]\n       .set_index('Name')\n       .stack()\n       .reset_index()\n       .rename(columns={'level_1': 'Distribution', 0: 'Proportion'})\n)\n\n# Show the distributions\nplt.figure(figsize=(4.5, 35))\nstation_list = sdf.sort_values('DemandDiff', ascending=False)['Name'].tolist()\nsns.barplot(y='Name', x='Proportion', hue='Distribution', data=tidified,\n            order=station_list)\nplt.title('Proportion Docks vs Demand Difference')\nlocs, labels = plt.yticks()\nplt.yticks(locs, tuple([s[:15] for s in station_list]))\nplt.show()",
      "execution_count": null,
      "outputs": []
    },
    {
      "metadata": {
        "_uuid": "72ae2bc3b6d0c78c3a6189409a06a579df9ad9e9"
      },
      "cell_type": "markdown",
      "source": "There's not a really good match between the number of docks at each station and the overall difference in demand.  But don't go telling Nice Ride to re-allocate their docks just yet!  Keep in mind that we were looking at the *overall* difference in demand - but that difference in demand probably changes over time.  For example, some stations may have more outbound trips in the morning and more inbound trips in the evening, or vice-versa.\n\n<a id='demand-over-time'></a>\n### Difference in demand over time\n\nLet's look at how the demand at each station changes over time.  First we need to compute the number of inbound and outbound trips, and the difference, at each station by the hour:"
    },
    {
      "metadata": {
        "trusted": true,
        "_uuid": "28f343c6c652469cab79f7cc140b3ed6bcd278e1",
        "collapsed": true
      },
      "cell_type": "code",
      "source": "# Compute hourly trips at each station\ntrips['Start hour'] = trips['Start date'].dt.hour\ntrips['End hour'] = trips['End date'].dt.hour\noutbound = ( #num trips in and out by hour for each station\n    trips.groupby(['Start station', 'Start hour'])['Start date']\n         .count().to_frame().reset_index()\n         .rename(columns={\"Start date\": \"Outbound trips\", \n                          \"Start station\": \"Station name\",\n                          \"Start hour\": \"Hour\"})\n)\ninbound = ( #num trips in and out by hour for each station\n    trips.groupby(['End station', 'End hour'])['End date']\n         .count().to_frame().reset_index()\n         .rename(columns={\"End date\": \"Inbound trips\", \n                          \"End station\": \"Station name\",\n                          \"End hour\": \"Hour\"})\n)\ntrips_h = ( #num trips in and out by hour for each station\n    pd.merge(outbound, inbound, how='outer', \n             on=['Station name', 'Hour'])\n      .fillna(value=0)\n      .sort_values(['Station name', 'Hour'])\n)\ntrips_h['Difference'] = trips_h['Inbound trips'] - trips_h['Outbound trips']\n\n# Pivot to get Nstations-by-Nhours arrays for in, out, and diff\ntrips_hp = trips_h.pivot(index='Station name', columns='Hour').fillna(value=0)\n\n# Normalize by number of days in the season\nndays = (max(trips['Start date'])-min(trips['Start date'])).days\ntrips_hp = trips_hp/ndays",
      "execution_count": null,
      "outputs": []
    },
    {
      "metadata": {
        "_uuid": "86413b3a05fb18b58159f9c08fdc1e1010b5ed3e"
      },
      "cell_type": "markdown",
      "source": "Now we can see how the demand at each station changes over time.  For example, let's take a look at the busy downtown station at the Hennepin County Government Center."
    },
    {
      "metadata": {
        "trusted": true,
        "_uuid": "540de315e5ce687ff04a23a3e26e8f4d8c8084f8",
        "collapsed": true
      },
      "cell_type": "code",
      "source": "station_name = 'Hennepin County Government Center'\n\n# Plot demand at Hennepin County Government Center\nplt.figure()\nplt.subplot(2, 1, 1)\ninds = trips_hp['Outbound trips'].index==station_name\nplt.plot(trips_hp['Outbound trips'].loc[inds,:].values[0])\nplt.plot(trips_hp['Inbound trips'].loc[inds,:].values[0])\nplt.xticks(np.arange(0, 25, 6))\nplt.xlabel('Hour')\nplt.ylabel('Average\\nNumber of trips')\nplt.legend(['Outbound', 'Inbound'])\nplt.title('Trips at '+station_name)\nplt.show()\n\n# Plot difference in demand at Hennepin County Government Center\nplt.subplot(2, 1, 2)\ninds = trips_hp['Difference'].index==station_name\nplt.plot(trips_hp['Difference'].loc[inds,:].values[0], 'y')\nplt.fill_between(np.arange(24), 0, \n                 trips_hp['Difference'].loc[inds,:].values[0],\n                 color='yellow', alpha=0.2)\nplt.xticks(np.arange(0, 25, 6))\nplt.xlabel('Hour')\nplt.ylabel('Average Difference\\n(Inbound - Outbound)')\nplt.show()",
      "execution_count": null,
      "outputs": []
    },
    {
      "metadata": {
        "_uuid": "7ce940e98fac95ff19ee83ac2c6d763a627e88b8"
      },
      "cell_type": "markdown",
      "source": "This station sees a large volume of both inbound and outbound rentals over the course of a day.  But the balance between inbound and outbound trips isn't constant - it changes with time!  At around 8am, there are more people ending their rentals at the station, probably people who are commuting to work.  But at the end of the day, around 5p, people are usually *starting* their rentals from that station, probably for their commute home.\n\nWhat about a station in a more residential area?  Let's take a look at how the demand changes for a station in the Marcy Holmes neighborhood, just across the river from downtown, and down the street from the University of Minnesota."
    },
    {
      "metadata": {
        "trusted": true,
        "_uuid": "4f5d65295599829d871fe6730a91782f98d2b66d",
        "collapsed": true
      },
      "cell_type": "code",
      "source": "station_name = '6th Ave SE & University Ave'\n\n# Plot demand at 6th Ave SE & University Ave\nplt.figure()\nplt.subplot(2, 1, 1)\ninds = trips_hp['Outbound trips'].index==station_name\nplt.plot(trips_hp['Outbound trips'].loc[inds,:].values[0])\nplt.plot(trips_hp['Inbound trips'].loc[inds,:].values[0])\nplt.xticks(np.arange(0, 25, 6))\nplt.xlabel('Hour')\nplt.ylabel('Average\\nNumber of trips')\nplt.legend(['Outbound', 'Inbound'])\nplt.title('Trips at '+station_name)\nplt.show()\n\n# Plot difference in demand at 6th Ave SE & University Ave\nplt.subplot(2, 1, 2)\ninds = trips_hp['Difference'].index==station_name\nplt.plot(trips_hp['Difference'].loc[inds,:].values[0], 'y')\nplt.fill_between(np.arange(24), 0, \n                 trips_hp['Difference'].loc[inds,:].values[0],\n                 color='yellow', alpha=0.2)\nplt.xticks(np.arange(0, 25, 6))\nplt.xlabel('Hour')\nplt.ylabel('Average Difference\\n(Inbound - Outbound)')\nplt.show()",
      "execution_count": null,
      "outputs": []
    },
    {
      "metadata": {
        "_uuid": "543e9d5cebb561c6790c9d668fda9f1f215412e6"
      },
      "cell_type": "markdown",
      "source": "Here the pattern is the opposite - more trips depart from the station in the morning and end there in the afternoon.  There's also a lot more inbound trips late into the evening.  That's probably students from the Univeristy of Minnesota coming home.\n\nBut instead of looking through all 202 stations individually, let's just plot on a map how the difference in demand changes across the day at all stations.  In the map below, drag the slider to see how station demands change over the course of the day.\n\n(Note: you might want to pan the map a bit before messing with the slider.  It gets a bit glitchy otherwise.)"
    },
    {
      "metadata": {
        "trusted": true,
        "_uuid": "7b45a8f6f80a6f5313b04f1a4f95e2a2791eb6c7",
        "scrolled": false,
        "collapsed": true
      },
      "cell_type": "code",
      "source": "def HourSlider(loc, val, title='', height=500, width=800,\n               palette=Viridis256, symmetric_color=False):\n    \"\"\"Plot map of points w/ values which change hourly\n    \n    Parameters\n    ----------\n    loc : pd.DataFrame\n        Locations and names of stations.\n        Must have Name, Latitude, and Longitude columns\n        Size: (Nstations, 3)\n    val : pd.DataFrame\n        Values which change hourly\n        Size: (Nstations, Nhours)\n        \n    Returns\n    -------\n    bokeh.models.layouts.Column\n    Bokeh layout with the plot and slider\n    \"\"\"\n    \n    # On hover, show station name\n    tooltips = [(\"Station\", loc.Name)]\n\n    # Plot trips\n    V = np.transpose(val.values)\n    p, src = MapPoints(loc.Latitude, loc.Longitude, \n                       tooltips=tooltips, color=V[12,:],\n                       size=10*np.sqrt(np.abs(V[12,:])),\n                       symmetric_color=symmetric_color,\n                       palette=palette, title=title, \n                       height=height, width=width)\n    \n    # Make slider to control hour\n    cb = CustomJS(args=dict(source=src, colors=V), code=\"\"\"\n        var h = cb_obj.value;\n        var c = source.data['color'];\n        var s = source.data['size'];\n        for (var i = 0; i < c.length; i++) {\n            c[i] = colors[h][i];\n            s[i] = 10*Math.sqrt(Math.abs(colors[h][i]));\n        }\n        source.change.emit();\n    \"\"\")\n    slider = Slider(start=0, end=23, \n                    value=12, step=1, title=\"Hour\")\n    slider.js_on_change('value', cb)\n    \n    # Return figure w/ slider\n    return column(p, slider)\n\n# Outbound\np1 = HourSlider(stations.sort_values('Name'), \n                trips_hp['Outbound trips'], \n                title='Number of Outbound Trips, by Hour')\ntab1 = Panel(child=p1, title=\"Outbound\")\n\n# Inbound\np2 = HourSlider(stations.sort_values('Name'), \n                trips_hp['Inbound trips'], \n                title='Number of Inbound Trips, by Hour')\ntab2 = Panel(child=p2, title=\"Inbound\")\n\n# Difference\np3 = HourSlider(stations.sort_values('Name'), \n                trips_hp['Difference'], \n                title='Difference (Inbound - Outbound), by Hour',\n                palette=brewer['Spectral'][11],\n                symmetric_color=True)\ntab3 = Panel(child=p3, title=\"Difference\")\n\n# Show all tabs\nshow(Tabs(tabs=[tab3, tab1, tab2]))",
      "execution_count": null,
      "outputs": []
    },
    {
      "metadata": {
        "_uuid": "3026e15d79d6bf38e07289a65f262c870a167520"
      },
      "cell_type": "markdown",
      "source": "There's a pretty obvious commuter trend.  Stations downtown and at the Univeristy of Minnesota have more incoming rides during the morning rush hour (~7-8am), while residential areas surrounding downtown have more outbound rides.  During the evening commute however (~4-5pm), stations downtown and at the U of M are depleted and there is an influx of rides to stations in surrounding residential areas.\n\nThis pattern can actually work in Nice Ride's favor.  Suppose a station has a bunch of bikes leaving in the morning.  As long as there were lots of bikes there in the morning, if they all come back in the evening, then that's great for Nice Ride - they don't have to re-distribute the bikes to that station! The only time when bike distribution problems arise is when (1) there is an imbalance in the ride distribution on average, or (2) there aren't enough docks at a station to buffer the daily fluxuations in demand at that station. \n\nEarlier we looked at which stations have imbalances in the ride distribution on average (the horizontal bar plot with difference in demand and # docks for each station).  That analysis tells us about which stations we can expect to see become depleted over the course of the day, and *not* be replenished, or vice versa.  This problem can be alleviated at a given station by increasing the number of docks at a station, but that won't *fix* the problem.  Even with a large number of docks at a station, the imbalance will add up over time.  No matter what, Nice Ride will have to re-distribute bikes to/from these stations.  That's why we shouldn't worry as much about trying to match the number of docks at a station to its demand difference on average.  However, the other problem *can* be fixed by optimizing the number of docks at each station.  \n\n<a id='cumulative-difference'></a>\n### Cumulative difference in demand\n\nThat second problem is the issue of the demand changing over time.  Even when a station has an even balance in inbound to outbund trips on average, we want there to be enough docks at a station to buffer imbalances that happen over the course of a day.  For example, suppose a station has, on average, 10 outbound rentals in the morning, and then 10 inbound rentals in the afternoon.  There's a perfect balance on average, so Nice Ride doesn't have to worry too much about re-distributing bikes to or from that station.  \n\nBut only if the station has enough docks!  What if the station only has 5 docks?  Then the station will run out of available bikes halfway through the morning, and Nice Ride will have to bring 5 bikes to the station from some other station so that more people can rent from that station.  If they don't, Nice Ride will miss out on revenue!  And in the afternoon, the station will fill up, and Nice Ride will have to take 5 bikes *away* from the station to a different station, so that there are empty docks where people can end their rides.  If they don't, customers will be pissed that they can't end their ride where they wanted to.  So if the station doesn't have enough docks, Nice Ride will have to re-distribute bikes to and from that station *every day!*\n\nWe need to optimize the number of docks at each station in order to minimize the amount of bike re-distribution that's required.  To do that, we'll take a look at the cumulative difference in demand at each station.  The cumulative difference in demand is, at a given time of day, how many more (or less) bikes are at station than were there at the beginning of the day.  Using this analysis, we can answer some important questions about bike re-distribution of bikes at each station:\n- Which stations have a large imbalance?\n- In which direction is that imbalance? (i.e. does Nice Ride need to bring bikes to that station, or take them away?)\n- When is that imbalance worst?\n- What is the optimal number of bikes to have at each station at the beginning of the day?\n- What is the optimal number of docks to have at each station?\n\nLet's compute the cumulative difference in demand at each station.  We'll also normalize by the number of days in the Nice Ride season, so that our values reflect how many bikes are at each station across time on an average day (relative to the number of bikes that were there at the beginning of the day)."
    },
    {
      "metadata": {
        "trusted": true,
        "_uuid": "b71c3dab21d1ee37b795adec8baef562bd2dccd2",
        "collapsed": true
      },
      "cell_type": "code",
      "source": "# Compute the cumulative difference in demand\ncdiff = trips_hp['Difference'].apply(np.cumsum, axis=1)",
      "execution_count": null,
      "outputs": []
    },
    {
      "metadata": {
        "_uuid": "306e158721443559bfa41c8ad932dc2e53c09ebd"
      },
      "cell_type": "markdown",
      "source": "What does the cumulative difference in demand look like for the station at the station at 6th Ave SE & University Ave, which we were looking at earlier?"
    },
    {
      "metadata": {
        "trusted": true,
        "_uuid": "27fa4c9a6d71f9d2d8e13f9b002e9b08bcd0eac5",
        "collapsed": true
      },
      "cell_type": "code",
      "source": "station_name = '6th Ave SE & University Ave'\n\n# Plot difference in demand at 6th Ave SE & University Ave\nplt.figure()\nplt.subplot(2, 1, 1)\ninds = trips_hp['Difference'].index==station_name\nplt.plot(trips_hp['Difference'].loc[inds,:].values[0], 'y')\nplt.fill_between(np.arange(24), 0, \n                 trips_hp['Difference'].loc[inds,:].values[0],\n                 color='yellow', alpha=0.2)\nplt.xticks(np.arange(0, 25, 6))\nplt.xlabel('Hour')\nplt.ylabel('Average Difference\\n(Inbound - Outbound)')\nplt.show()\n\n# Plot cumulative difference in demand at Lake Street & Knox Ave S\nplt.subplot(2, 1, 2)\nplt.plot(cdiff.loc[station_name, :].index,\n         cdiff.loc[station_name, :].values, 'b')\nplt.fill_between(cdiff.loc[station_name, :].index, 0,\n                 cdiff.loc[station_name, :].values,\n                 color='blue', alpha=0.2)\nplt.xticks(np.arange(0, 25, 6))\nplt.xlabel('Hour')\nplt.ylabel('Cumulative Difference\\n(Num bikes)')\nplt.show()",
      "execution_count": null,
      "outputs": []
    },
    {
      "metadata": {
        "_uuid": "08ecd11eaa586fa6e2c7e0878c252ddc6c8e1790"
      },
      "cell_type": "markdown",
      "source": "Looking at the cumulative demand difference makes it obvious that a lot of bikes are being taken away from this station during the morning, and then brought back in the evening.  So if Nice Ride doesn't re-distribute bikes to this station, there will be a lot fewer bikes here between 9a and 4p than there are at night.\n\nLet's plot the cumulative difference in demand at all stations over the course of a day.  Blue will show when a station usually has less bikes than it had at the beginning of the day, red will show when a station has more bikes than it started with, and white will show  when the station has about as many bikes as it started with."
    },
    {
      "metadata": {
        "trusted": true,
        "_uuid": "f37a9d9f5040a9a166057348abafc3327f6ed091",
        "scrolled": false,
        "collapsed": true
      },
      "cell_type": "code",
      "source": "# Sort stations by overall demand difference\ncdiff = cdiff.iloc[np.argsort(-np.sum(cdiff.values, axis=1)), :]\n\n# Plot cumulative difference for each station\nsns.set_style(\"dark\")\nplt.figure(figsize=(7, 35))\nplt.imshow(cdiff, \n           aspect='auto',\n           interpolation=\"nearest\")\nplt.set_cmap('seismic')\nmav = np.amax(np.abs(cdiff.values))\nplt.clim(-mav, mav)\ncbar = plt.colorbar()\ncbar.set_label('Number of bikes relative to beginning of day')\nplt.ylabel('Station')\nplt.xlabel('Hour')\nplt.xticks(np.arange(0, 24, 6))\nplt.yticks(np.arange(cdiff.shape[0]),\n           tuple([s[:15] for s in cdiff.index.tolist()]))\nplt.title('Average Number of Bikes at each station\\nrelative to start of day')\nplt.show()",
      "execution_count": null,
      "outputs": []
    },
    {
      "metadata": {
        "_uuid": "f233998bc34a21280382614498ccf508424dc6a2"
      },
      "cell_type": "markdown",
      "source": "From this plot we can see which stations have the largest imbalances of incoming to outbound rides (stations with dark red or blue), the direction of that imbalance (red=more bikes, blue=less bikes), and at what time during the day that imbalance is the worst.  \n\nUsing this matrix, we could work out the best times to move bikes between stations, how many to move, and between which stations.  Unfortunately the times at which Nice Ride actually re-distributed bikes isn't included in the historical datset, although that information could be collected from their [General Bikeshare Feed](https://api-core.niceridemn.org/gbfs/gbfs.json).\n\n<a id='optimal-initial-number'></a>\n### Optimal initial number of bikes\n\nWe can also use this cumulative difference information to figure out the optimal number of bikes to have at each station at the beginning of the day.  We want to minimize the amount of time that stations are empty when customers are wanting to rent, and the amount of time stations are full when customers are wanting to return their rentals.  To do that we'll define a \"loss\" function for each station.  This loss function takes a hypothetical initial number of bikes, and returns a value which is higher when a station is close to being full and there are more inbound trips than outbound trips, and also higher when a station is close to being empty and there are more outbound trips than inbound trips:\n\n$$ \nL(N_0) = \\int_t \\alpha \\max(0, D_t) \\exp ( N_0 + C_t - N_d ) - (1-\\alpha) \\min(0, D_t) \\exp ( - N_0 - C_t )  ~ dt\n$$\n\nwhere \n\n- $L(N_0)$ is the loss of starting with N_0 docks at the beginning of the day\n- $D_t$ is the demand difference at time $t$ (inbound rides minus outbound rides)\n- $C_t$ is the cumulative demand difference ($C_t = \\int_0^t D_x ~ dx$)\n- $N_d$ is the number of docks at the station\n- $\\alpha$ is a parameter which controls how bad it is for a station to be full vs being empty\n\nLet's look at each part of that overly-complicated equation.  The integral in the loss equation sums over all the hours of a day (but you could use a finer time bin if you wanted to).  The first half of what's inside the integral ($\\alpha \\max(0, D_t) \\exp ( N_0 + C(t) - N_d )$) is a value which will be large when the station is close to being full and there are more inbound rides than outbound rides.  $\\max(0, D_t)$ is just the difference in demand, but only when it's positive (and 0 when it's negative).  $N_0 + C(t) - N_d$ is the (negative of the) expected number of *empty docks* left at the station.  That way, when the expected number of empty docks at the station is very low, $\\exp ( N_0 + C_t - N_d )$ will be very high, and vice-versa.  So, when the expected number of empty docks at the station is low *and* the number of inbound trips is high, the value of $\\max(0, D_t) \\exp ( N_0 + C_t - N_d )$ will be large.\n\nBut we also want to penalize having an empty station when people want to rent bikes!  The second half of what's in the integral ($- (1-\\alpha) \\min(0, D_t) \\exp ( - N_0 - C_t )$) is a value which will be large when the station is close to being empty and there are more outbound rides than inbound rides.  $\\min(0, D_t)$ is the difference in demand, but only when it's negative (and 0 when it's positive).  $(- N_0 - C_t)$ is the (negative of the) expected number of bikes left at the station.  That way, when the expected number of bikes available at a station is low, $\\exp ( - N_0 - C_t )$ will be very high, and vice-versa.  So when the expected number of available bikes at the station is low *and* the number of outbound trips his high, the value of $- \\min(0, D_t) \\exp ( - N_0 - C_t )$ will be large.\n\nThe $\\alpha$ parameter controls how bad it is to have stations fill up with bikes compared to running out of bikes, and should take values between 0 and 1.  If $\\alpha<0.5$, that means we consider it \"more bad\" when the station is empty but there are people wanting to rent from that station than when it is full and people are wanting to end their rides there.  I'm going to set $\\alpha=0.3$, because to me it seems slightly worse to have a station be empty when someone wants to rent a bike than to have a station be full where someone wants to return a bike.  Either way the customer is pissed, but if the station they want to rent from is empty, they probably won't end up renting a bike, and Nice Ride will miss out on revenue.  If the station they want to return their bike to is full, they'll just have to find another station and return it there.\n\n(Keep in mind that optimizing this jerry-built loss function won't technically give us the \"optimal\" number of initial bikes.  To get that we would want to build a predictive model and run a full cost-benefit analysis.  More on that later.)\n\nLet's compute the optimal number of bikes for each station to have at the beginning of the day using that loss function."
    },
    {
      "metadata": {
        "trusted": true,
        "_uuid": "6ccf74c3774a0b14bb09c87f6e389b744cf3ebf0",
        "collapsed": true
      },
      "cell_type": "code",
      "source": "# Create dataframe to store optimal initial # bikes\nOptBikes = pd.DataFrame(index=trips_hp.index.tolist(), \n                        columns=['Opt Bikes'])\n\n# Set alpha\nalpha = 0.3\n\n# Compute optimal initial number of bikes\nfor s in OptBikes.index: #for each station,\n    Nd = stations.loc[stations.Name==s, 'Total docks'].values[0] #num docks @ this station\n    bL = np.inf #best loss so far \n    bB = Nd/2   #best #bikes for that loss\n    for N0 in range(Nd+1): #for each possible initial # of bikes,\n        L = 0 #loss w/ this # initial bikes\n        for h in np.arange(24): #for each hour,\n            Dt = trips_hp['Difference'].loc[s, h] #diff @ now\n            Ct = cdiff.loc[s, h] #cum diff @ now\n            L = ( L + #integrate the loss function!\n                  alpha*max(0,Dt)*np.exp(N0+Ct-Nd) -\n                  (1.0-alpha)*min(0,Dt)*np.exp(-N0-Ct))\n        if L<bL: #if best loss so far,\n            bL = L #save this loss \n            bB = N0 #and #bikes\n    OptBikes.loc[s,'Opt Bikes'] = bB",
      "execution_count": null,
      "outputs": []
    },
    {
      "metadata": {
        "_uuid": "47a615509df11db26bc070cbed71a25f0f29cdb4"
      },
      "cell_type": "markdown",
      "source": "Now we can see, for each station, the optimal number of bikes for Nice Ride to have at that station at the beginning of a day, such that the least amount of time passes when the station is empty but people want to rent from that station, or the station is full but people want to end their rentals there."
    },
    {
      "metadata": {
        "trusted": true,
        "_uuid": "e8166cdc88c8c59146e9cd66b70300e025b51ebc",
        "scrolled": false,
        "collapsed": true
      },
      "cell_type": "code",
      "source": "# Plot the optimal number of initial bikes\nsns.set()\nplt.figure(figsize=(4.5, 35))\nstation_list = (OptBikes\n                    .sort_values('Opt Bikes')\n                    .index\n                    .tolist())\nsns.barplot(y=OptBikes.index.tolist(), \n            x=OptBikes['Opt Bikes'], \n            order=station_list)\nplt.title('Optimal Initial Number of Bikes\\n' +\n          'at each station at beginning of day')\nlocs, labels = plt.yticks()\nplt.yticks(locs, tuple([s[:15] for s in station_list]))\nplt.xlabel('Number of Bikes')\nplt.ylabel('Station')\nplt.show()",
      "execution_count": null,
      "outputs": []
    },
    {
      "metadata": {
        "_uuid": "6714eae216e24e6cca675cf5e350a1020af5512a"
      },
      "cell_type": "markdown",
      "source": "These values are a good first estimation at a target number of bikes for Nice Ride to have at each station at the end of the day.  However, keep in mind that Nice Ride's employees are re-distributing bikes throughout the day (and not all at once at midnight!).  An even more useful analysis would be to determine when Nice Ride employees should re-distribute bikes, and from/to which stations.  We won't do that here, but I hope to do that analysis in a future post.\n\n<a id='demand-range'></a>\n### Demand Range\n\nFinally, we can also compute the optimal number of *docks* for each station to have, given the cumulative difference in demand.  Of course, ideally each station would have *infinite* docks, but Nice Ride doesn't have infinite money.  The best we can do is determine how to optimally *distribute* the docks that Nice Ride can afford across their stations.\n\nEach station should have enough docks to buffer the daily fluxuations in bikes.  Specifically, to avoid re-distribution of bikes, a station needs to have (on average) as many docks as the difference between the maximum and minimum of its cumulative demand difference (or the demand range). \n\nLet's look at this value for an example station.  Below is the cumulative difference in demand for the station at 6th Ave SE & University Ave (cumulative number of inbound minus outbound rides per hour).  The demand range for this station is the difference between the max and minimum of this cumulative difference - the difference between the two dashed lines in the plot below:"
    },
    {
      "metadata": {
        "trusted": true,
        "_uuid": "370ef913dc4db406b58b312132abe5dcc9a21cdc",
        "collapsed": true
      },
      "cell_type": "code",
      "source": "# Plot cumulative difference at 6th Ave SE & University Ave\nstation_name = '6th Ave SE & University Ave'\nplt.figure()\nH = cdiff.loc[station_name, :].index\nC = cdiff.loc[station_name, :].values\nplt.plot(H, C, 'b')\nplt.fill_between(H, 0, C, color='blue', alpha=0.2)\nplt.plot([0, 23], [max(C), max(C)], 'k--')\nplt.plot([0, 23], [min(C), min(C)], 'k--')\nplt.annotate(s='', xy=(13,min(C)), xytext=(13,max(C)), \n             arrowprops=dict(arrowstyle='<->'))\nplt.xticks(np.arange(0, 25, 6))\nplt.xlabel('Hour')\nplt.ylabel('Cumulative Difference\\n(Num bikes)')\nplt.show()",
      "execution_count": null,
      "outputs": []
    },
    {
      "metadata": {
        "_uuid": "24c311b597115702dcfdc9ea15405b4c8aa0c711"
      },
      "cell_type": "markdown",
      "source": "The larger that demand range value is, the more docks the station should have in order to buffer that fluxuation in the number of bikes at the station.\n\nLet's compute the demand range for each station, and see how the distribution of demand ranges compare to the distribution of docks across all stations"
    },
    {
      "metadata": {
        "trusted": true,
        "scrolled": false,
        "_uuid": "7b1256131b470cb0f7d91ee4c394509d12828e5a",
        "collapsed": true
      },
      "cell_type": "code",
      "source": "# Create dataframe to store demand ranges\nrange_vs_docks = pd.DataFrame(index=stations['Name'].tolist(), \n                              columns=['Range', 'Docks'])\n\n# Compute demand range for each station\nfor s in range_vs_docks.index:\n    C = cdiff.loc[s, :].values\n    range_vs_docks.loc[s,'Range'] = max(C) - min(C)\n    D = stations.loc[stations.Name==s,'Total docks'].values[0]\n    range_vs_docks.loc[s,'Docks'] = D\n    \n# Normalize distributions\nrange_vs_docks = range_vs_docks.apply(lambda x: x/np.sum(x))\n    \n# Tidy the data for seaborn\ntidified = (\n    range_vs_docks\n       .stack()\n       .reset_index()\n       .rename(columns={'level_0': 'Name',\n                        'level_1': 'Distribution', \n                        0: 'Proportion'})\n)\n\n# Show the distributions\nplt.figure(figsize=(4.5, 35))\nstation_list = range_vs_docks.sort_values('Range', ascending=False).index.tolist()\nsns.barplot(y='Name', x='Proportion', hue='Distribution', \n            data=tidified, order=station_list)\nplt.title('Proportion Docks vs Demand Range')\nlocs, labels = plt.yticks()\nplt.yticks(locs, tuple([s[:15] for s in station_list]))\nplt.show()\n",
      "execution_count": null,
      "outputs": []
    },
    {
      "metadata": {
        "_uuid": "ad7b7d3d0b74f93561488a173e60117f5cdf3c03"
      },
      "cell_type": "markdown",
      "source": "There's not a great match between the number of docks and the demand range.  Ideally, those two distributions would look similar.  But it's not an awful match, either - notice how the stations with the lowest demand range usually have the smallest number of docks, and stations with the highest demand range usually have the most docks.\n\nWhy don't the two distributions match better?  Hasn't Nice Ride done their homework?  There are a few reasons why the actual distribution of docks might not align to the demand range as we computed it.\n\nFirst of all, it seems like it would be costly for each station to have a custom number of docks.  As we saw earlier, most stations have 15 docks, with additional increments of 4 docks.  It would seem that the standard station size is 15, with 4-dock add-ons.  It is likely more expensive for Nice Ride to custom-order each station than it is for them to buy mostly stations with the standard number of docks.\n\nSecondly, it is probably less expensive for Nice Ride to pay a few employees to re-distribute bikes over the course of the day than it is for them to buy stations with a bajillion docks.  Ideally, stations with large demand ranges (such as the stations at Hennepin County Gov't Center, Washingon Ave, Coffman Union, etc) would have far more docks, to match their fluxuations in bikes over the course of the day.  However that isn't nessesary - a few employees can re-distribute bikes from and to these stations over the course of the day so that the stations don't fill up or empty.\n\nAlso keep in mind that these demand ranges were calculated using the average over all days of the season!  In reality there's probably a difference based on *what* day it is (e.g. a weekday vs a weekend), whether the day is a holiday, the season/time of year, the weather, and other factors.  It may be most cost-effective for Nice Ride to optimize the number of docks during, say, only the part of the season when they have the most customers.   Or the day of the week, etc.\n\nComputing the average demand range is a simple way to preliminarily estimate how many docks Nice Ride should have at each station.  While it was simple enough to do in a few lines of code, there are more complex ways to more accurately predict optimal parameters for Nice Ride's system.  Ideally, one would want to train a machine learning algorithm to predict the volume of inbound and outbound rides at each station.  Instead of using averages, as we used above, this algorithm could take into consideration the season, day of the week, weather, etc, and output demand predictions.  From those demand predictions we could compute the demand difference and the cumulative demand difference.  Given the average revenue per ride, and the estimated cost of having someone end up at a full station, we could perform a cost-benefit analysis in order to optimize the initial number of bikes at each station, the number of docks at each station, the best times to re-distribute bikes, *and* from/to which stations.  Again, we won't do that here, but I hope to build such a model in a future post."
    },
    {
      "metadata": {
        "_uuid": "0a49c40c3db35db0d5aecc12c13a7451033cdcef"
      },
      "cell_type": "markdown",
      "source": "<a id='flow'></a>\n## Flow\n\nWe looked at where the Nice Ride stations are located, the number of docks at each station, and the demand at each station and how that demand changes over time.  However, how are bikes flowing from each station to the other?  That is, what does the distribution of *trips* look like?  What are the most and least common destinations from each station?\n\nLet's compute how many trips go from each station to each other station."
    },
    {
      "metadata": {
        "trusted": true,
        "_uuid": "8dc952e39a2f5bc26616f1b38e303408e244817f",
        "collapsed": true
      },
      "cell_type": "code",
      "source": "# Compute number of trips from each station to each other station\nflow = (\n    trips.groupby(['Start station', 'End station'])['Start date']\n    .count().to_frame().reset_index()\n    .rename(columns={\"Start date\": \"Trips\"})\n    .pivot(index='Start station', columns='End station')\n    .fillna(value=0)\n)",
      "execution_count": null,
      "outputs": []
    },
    {
      "metadata": {
        "_uuid": "44fe3897a22addcc606d5f7090853beca315931e"
      },
      "cell_type": "markdown",
      "source": "What does the distribution of trips look like?  We can visualize this information as a matrix, where each row corresponds to trips *from* a given station, and each column corresponds to trips *to* a given station.  So the value in row $i$, column $j$, is the number of trips from station number $i$ to station number $j$."
    },
    {
      "metadata": {
        "trusted": true,
        "_uuid": "b5f452e7efd784f7adfc6b7b5b1c4b0954ffbba8",
        "collapsed": true
      },
      "cell_type": "code",
      "source": "# Plot trips to and from each station\nsns.set_style(\"dark\")\nplt.figure(figsize=(10, 8))\nplt.imshow(np.log10(flow.values+0.1),\n           aspect='auto',\n           interpolation=\"nearest\")\nplt.set_cmap('plasma')\ncbar = plt.colorbar(ticks=[-1,0,1,2,3])\ncbar.set_label('Number of trips')\ncbar.ax.set_yticklabels(['0','1','10','100','1000'])\nplt.ylabel('Station Number FROM')\nplt.xlabel('Station Number TO')\nplt.title('Number of trips to and from each station')\nplt.show()",
      "execution_count": null,
      "outputs": []
    },
    {
      "metadata": {
        "_uuid": "668a987fb1633ddb6e82c2452e179122e994812d"
      },
      "cell_type": "markdown",
      "source": "There's a clear diagonal line across the plot - this indicates that many trips end at the same station at which they started, because the diagonal corresponds to where the row number is the same as the column number (the start station is the same as the end station).\n\nIs this the norm?  Do most trips actually return to the station they started from?"
    },
    {
      "metadata": {
        "trusted": true,
        "_uuid": "3ad463974a13a1c625ba893c1053c9578d1a433f",
        "collapsed": true
      },
      "cell_type": "code",
      "source": "# Plot num trips returning to same station\nsns.set()\nplt.figure()\nplt.bar([0, 1], \n        [np.trace(flow.values), \n         flow.values.sum()-np.trace(flow.values)],\n        tick_label=['Same as start', 'Other'])\nplt.xlabel('End station')\nplt.ylabel('Number of trips')\nplt.title('Number of trips which end\\n'+\n          'at same station they started from')\nplt.show()",
      "execution_count": null,
      "outputs": []
    },
    {
      "metadata": {
        "_uuid": "bfe1c37f85a7af1c84bdead2ecb16e76e0e2d6fa"
      },
      "cell_type": "markdown",
      "source": "No.  Definitely not.  So most trips don't actually return to the station the started from, but how popular is the most popular destination from each station relative to coming back to that station?"
    },
    {
      "metadata": {
        "trusted": true,
        "_uuid": "2aa87b8b45de714d471ad512c5b777f1fe0b65b5",
        "collapsed": true
      },
      "cell_type": "code",
      "source": "# Compute num trips to self + most popular other\nV = flow.values\nnum_same = np.trace(V)\nnp.fill_diagonal(V, np.nan)\nsecond_best = np.nanmax(V, axis=0).sum()\n\n# Plot num trips returning to same station\nplt.figure()\nplt.bar([0, 1], [num_same, second_best],\n        tick_label=['Same as start', 'Most popular other'])\nplt.xlabel('End station')\nplt.ylabel('Number of trips')\nplt.title('Trips which end at same station\\n'+\n          'vs most popular other station')\nplt.show()",
      "execution_count": null,
      "outputs": []
    },
    {
      "metadata": {
        "_uuid": "34ce10dac95b021b49f54ebba28754979fb1970f"
      },
      "cell_type": "markdown",
      "source": "Yes, customers more often return to the same station than they go to any other popular station.\n\nAre there clusters of stations that customers ride between?  For example, do people mostly ride from the downtown stations to other downtown stations?  Or, say, between Uptown and Bde Maka Ska?  The matrix from before didn't group stations in any way, or arrange them in any particular order, so we weren't able to get this information from that plot.  However, we can hierarchically cluster the flow patterns between stations, in order to see which groups of stations have many rides between themselves, but not as many to other stations outside the group."
    },
    {
      "metadata": {
        "trusted": true,
        "_uuid": "ef5b4fe94c56c42243ebb2bf4b9de8a1238dec15",
        "collapsed": true
      },
      "cell_type": "code",
      "source": "# Plot hierarchical cluster map\nlog_flow = flow.applymap(lambda x: np.log10(x+0.1))\nsns.clustermap(log_flow, method='weighted')\nplt.show()",
      "execution_count": null,
      "outputs": []
    },
    {
      "metadata": {
        "_uuid": "fbdd8fb62d656dd11482980cc24ab5fcfeec1a82"
      },
      "cell_type": "markdown",
      "source": "The trips are somewhat clustered, in (retrospectively) obvious ways.  Stations in St. Paul see more traffic between themselves than to stations in Minneapolis (the cluster on the lower left).  Stations on the University of Minnesota campus see lots of traffic between themselves (the cluster on the middle right), and stations in downtown Minneapolis see mostly traffic between themselves (large cluster in the upper-right).  However, these clusters aren't completely distinct, and there is obviously a lot of traffic even between stations not in the same \"cluster\", especially across Minneapolis."
    },
    {
      "metadata": {
        "_uuid": "9f88d64abb6826041d44bfb21474073b9a9dd671"
      },
      "cell_type": "markdown",
      "source": "\nTODO\n\nFlow Bokeh plot\n- show flow on station hover\n  "
    },
    {
      "metadata": {
        "trusted": true,
        "_uuid": "9b96987551dd0e2442dc105149cf0bc3f05d7a58",
        "collapsed": true
      },
      "cell_type": "code",
      "source": "'''\nUse CustomJS for hover\nhttp://bokeh.pydata.org/en/0.10.0/docs/user_guide/interaction.html#customjs-for-hover\n\nfind the nearest station to mouse\n\nchange lines to be drawn from that station to each other station\nand update size/color of em\n\nsource should have aX, bX, aY, bY columns (start and end X and Y positions), along w/ a size column\n\n\n'''\n",
      "execution_count": null,
      "outputs": []
    },
    {
      "metadata": {
        "trusted": true,
        "scrolled": false,
        "_uuid": "794d5e7d963c794b29cb81f49144c8f2401e0c1b",
        "collapsed": true
      },
      "cell_type": "code",
      "source": "# from the docs: http://bokeh.pydata.org/en/0.11.1/docs/user_guide/interaction.html\n\n# define some points and a little graph between them\nx = [2, 3, 5, 6, 8, 7]\ny = [6, 4, 3, 8, 7, 5]\nlinks = {\n    0: [1, 2],\n    1: [0, 3, 4],\n    2: [0, 5],\n    3: [1, 4],\n    4: [1, 3],\n    5: [2, 3, 4]\n}\n\np = figure(width=400, height=400, tools=\"\", toolbar_location=None, title='Hover over points')\n\nsource = ColumnDataSource({'x0': [], 'y0': [], 'x1': [], 'y1': []})\nsr = p.segment(x0='x0', y0='y0', x1='x1', y1='y1', color='olive', alpha=0.6, line_width=3, source=source)\ncr = p.circle(x, y, color='olive', size=30, alpha=0.4, hover_color='olive', hover_alpha=1.0)\n\n# Add a hover tool, that sets the link data for a hovered circle\ncode = \"\"\"\nvar links = %s;\nvar data = {'x0': [], 'y0': [], 'x1': [], 'y1': []};\nvar cdata = circle.get('data');\nvar indices = cb_data.index['1d'].indices;\nfor (i=0; i < indices.length; i++) {\n    ind0 = indices[i]\n    for (j=0; j < links[ind0].length; j++) {\n        ind1 = links[ind0][j];\n        data['x0'].push(cdata.x[ind0]);\n        data['y0'].push(cdata.y[ind0]);\n        data['x1'].push(cdata.x[ind1]);\n        data['y1'].push(cdata.y[ind1]);\n    }\n}\nsegment.set('data', data);\n\"\"\" % links\n\ncallback = CustomJS(args={'circle': cr.data_source, 'segment': sr.data_source}, code=code)\np.add_tools(HoverTool(tooltips=None, callback=callback, renderers=[cr]))\n\nshow(p)\n",
      "execution_count": null,
      "outputs": []
    },
    {
      "metadata": {
        "_uuid": "e4901e767c211250408ef2281b8c25e22c456c48"
      },
      "cell_type": "markdown",
      "source": "<a id='ride-season'></a>\n## Ride Season\n\nTODO: talk about looking @ ride season (when it starts + ends etc)"
    },
    {
      "metadata": {
        "trusted": true,
        "_uuid": "765dee7faa0d47eb8569d112f46d8b4fa2cdb85e",
        "collapsed": true
      },
      "cell_type": "code",
      "source": "# Show first and last rentals of the season\nprint('First rental: ', min(trips['Start date']))\nprint('Last rental: ', max(trips['Start date']))",
      "execution_count": null,
      "outputs": []
    },
    {
      "metadata": {
        "trusted": true,
        "_uuid": "340d998fbcaf35ef11093178cdfdcb74625ef4c4",
        "collapsed": true
      },
      "cell_type": "code",
      "source": "# Plot number of rides per month\nplt.figure()\nsns.countplot(trips['Start date'].dt.month)\nplt.xlabel('Month')\nplt.ylabel('Number of Trips')\nplt.title('Number of rentals by month in 2017')\nplt.show()",
      "execution_count": null,
      "outputs": []
    },
    {
      "metadata": {
        "trusted": true,
        "_uuid": "e1f51e507508cc07a8514ba40f9e4bcc717ab2da",
        "collapsed": true
      },
      "cell_type": "code",
      "source": "# Plot number of rides per week\nplt.figure(figsize=(6, 7))\nsns.countplot(y=trips['Start date'].dt.week)\nplt.ylabel('Week')\nplt.xlabel('Number of Trips')\nplt.title('Number of rentals by week in 2017')\nplt.show()",
      "execution_count": null,
      "outputs": []
    },
    {
      "metadata": {
        "trusted": true,
        "_uuid": "552c5c7e41fbf0af86eb8d3107bbd7ae452a30fd",
        "collapsed": true
      },
      "cell_type": "code",
      "source": "# Plot number of rides per day of the year\ntrips.groupby(trips['Start date'].dt.dayofyear)['Start date'].count().plot()\nplt.xlabel('Day of the year')\nplt.ylabel('Number of rentals')\nplt.title('Number of rentals by day of the year in 2017')\nplt.show()",
      "execution_count": null,
      "outputs": []
    },
    {
      "metadata": {
        "trusted": true,
        "_uuid": "9ae69051fd495622406017e792823649f000f48b",
        "collapsed": true
      },
      "cell_type": "code",
      "source": "# Plot number of rides per day of the week\nplt.figure()\nsns.countplot(trips['Start date'].dt.weekday)\nplt.xlabel('Day')\nplt.ylabel('Number of Trips')\nplt.title('Number of rentals by day of the week in 2017')\nplt.xticks(np.arange(7),\n           ['M', 'T', 'W', 'Th', 'F', 'Sa', 'Su'])\nplt.show()",
      "execution_count": null,
      "outputs": []
    },
    {
      "metadata": {
        "_uuid": "ad22fa040003ee73b20fb0feb45facd6beb2fd7f"
      },
      "cell_type": "markdown",
      "source": "TODO: Talk about \"do people ride less in the spring/fall just beacause, or because the weather isn't as nice?\"\n"
    },
    {
      "metadata": {
        "_uuid": "69349a236d4bda05f6438e9c48bfab11601e3bff"
      },
      "cell_type": "markdown",
      "source": "<a id='ride-durations'></a>\n## Ride durations\n\nHow long did rentals of Nice Ride's bikes usually last? There were an oddly large number of trips larger than 24 hours (but a very small proportion of the total number of trips)."
    },
    {
      "metadata": {
        "trusted": true,
        "_uuid": "4f56f0b0986393c409d809812cb51a7305e07c8b"
      },
      "cell_type": "code",
      "source": "# Show number of trips longer than 24hrs\nNtd = np.count_nonzero(trips['Total duration (Seconds)']>(24*60*60))\nprint(\"Number of trips longer than 24 hours: %d (%0.2g %%)\"\n      % (Ntd, Ntd/float(len(trips))))",
      "execution_count": 17,
      "outputs": [
        {
          "output_type": "stream",
          "text": "Number of drips longer than 24 hours: 812 (0.0018 %)\n",
          "name": "stdout"
        }
      ]
    },
    {
      "metadata": {
        "_uuid": "f5ecf15bc97df2ce8222f8bec2b1b356fdef9011"
      },
      "cell_type": "markdown",
      "source": "But most trips were under an hour:"
    },
    {
      "metadata": {
        "trusted": true,
        "_uuid": "fb3d519614694699a1dd067b11d8c7895e9043f1"
      },
      "cell_type": "code",
      "source": "# Show number of trips shorter than 1hr\nNtd = np.count_nonzero(trips['Total duration (Seconds)']<(24*60))\nprint(\"Number of trips shorter than 1 hour: %d (%0.2g %%)\"\n      % (Ntd, Ntd/float(len(trips))))",
      "execution_count": 19,
      "outputs": [
        {
          "output_type": "stream",
          "text": "Number of trips shorter than 1 hour: 340375 (0.74 %)\n",
          "name": "stdout"
        }
      ]
    },
    {
      "metadata": {
        "_uuid": "74550da16848d053b79ac2ddcc41b2eeed485791"
      },
      "cell_type": "markdown",
      "source": "Let's look at the distribution of trip durations, but only for those under 24 hours."
    },
    {
      "metadata": {
        "trusted": true,
        "_uuid": "f0f9518e4deab06291888f5b40fe2b9cd8b1a449"
      },
      "cell_type": "code",
      "source": "# Plot histogram of ride durations\nplt.figure()\nsns.distplot(trips.loc[trips['Total duration (Seconds)']<(4*60*60),\n                       'Total duration (Seconds)']/3600)\nplt.xlabel('Ride duration (hrs)')\nplt.ylabel('Number of Trips')\nplt.title('Ride durations')\nplt.show()",
      "execution_count": 24,
      "outputs": [
        {
          "output_type": "display_data",
          "data": {
            "text/plain": "<matplotlib.figure.Figure at 0x7fe742fd2ef0>",
            "image/svg+xml": "<?xml version=\"1.0\" encoding=\"utf-8\" standalone=\"no\"?>\n<!DOCTYPE svg PUBLIC \"-//W3C//DTD SVG 1.1//EN\"\n  \"http://www.w3.org/Graphics/SVG/1.1/DTD/svg11.dtd\">\n<!-- Created with matplotlib (http://matplotlib.org/) -->\n<svg height=\"278pt\" version=\"1.1\" viewBox=\"0 0 386 278\" width=\"386pt\" xmlns=\"http://www.w3.org/2000/svg\" xmlns:xlink=\"http://www.w3.org/1999/xlink\">\n <defs>\n  <style type=\"text/css\">\n*{stroke-linecap:butt;stroke-linejoin:round;}\n  </style>\n </defs>\n <g id=\"figure_1\">\n  <g id=\"patch_1\">\n   <path d=\"M 0 278.282188 \nL 386.749062 278.282188 \nL 386.749062 0 \nL 0 0 \nz\n\" style=\"fill:#ffffff;\"/>\n  </g>\n  <g id=\"axes_1\">\n   <g id=\"patch_2\">\n    <path d=\"M 44.749063 239.758125 \nL 379.549062 239.758125 \nL 379.549062 22.318125 \nL 44.749063 22.318125 \nz\n\" style=\"fill:#eaeaf2;\"/>\n   </g>\n   <g id=\"matplotlib.axis_1\">\n    <g id=\"xtick_1\">\n     <g id=\"line2d_1\">\n      <path clip-path=\"url(#pf3b99d5a83)\" d=\"M 62.520173 239.758125 \nL 62.520173 22.318125 \n\" style=\"fill:none;stroke:#ffffff;stroke-linecap:round;\"/>\n     </g>\n     <g id=\"line2d_2\"/>\n     <g id=\"text_1\">\n      <!-- 0.0 -->\n      <defs>\n       <path d=\"M 31.78125 66.40625 \nQ 24.171875 66.40625 20.328125 58.90625 \nQ 16.5 51.421875 16.5 36.375 \nQ 16.5 21.390625 20.328125 13.890625 \nQ 24.171875 6.390625 31.78125 6.390625 \nQ 39.453125 6.390625 43.28125 13.890625 \nQ 47.125 21.390625 47.125 36.375 \nQ 47.125 51.421875 43.28125 58.90625 \nQ 39.453125 66.40625 31.78125 66.40625 \nz\nM 31.78125 74.21875 \nQ 44.046875 74.21875 50.515625 64.515625 \nQ 56.984375 54.828125 56.984375 36.375 \nQ 56.984375 17.96875 50.515625 8.265625 \nQ 44.046875 -1.421875 31.78125 -1.421875 \nQ 19.53125 -1.421875 13.0625 8.265625 \nQ 6.59375 17.96875 6.59375 36.375 \nQ 6.59375 54.828125 13.0625 64.515625 \nQ 19.53125 74.21875 31.78125 74.21875 \nz\n\" id=\"DejaVuSans-30\"/>\n       <path d=\"M 10.6875 12.40625 \nL 21 12.40625 \nL 21 0 \nL 10.6875 0 \nz\n\" id=\"DejaVuSans-2e\"/>\n      </defs>\n      <g style=\"fill:#262626;\" transform=\"translate(54.56861 254.356563)scale(0.1 -0.1)\">\n       <use xlink:href=\"#DejaVuSans-30\"/>\n       <use x=\"63.623047\" xlink:href=\"#DejaVuSans-2e\"/>\n       <use x=\"95.410156\" xlink:href=\"#DejaVuSans-30\"/>\n      </g>\n     </g>\n    </g>\n    <g id=\"xtick_2\">\n     <g id=\"line2d_3\">\n      <path clip-path=\"url(#pf3b99d5a83)\" d=\"M 99.779909 239.758125 \nL 99.779909 22.318125 \n\" style=\"fill:none;stroke:#ffffff;stroke-linecap:round;\"/>\n     </g>\n     <g id=\"line2d_4\"/>\n     <g id=\"text_2\">\n      <!-- 0.5 -->\n      <defs>\n       <path d=\"M 10.796875 72.90625 \nL 49.515625 72.90625 \nL 49.515625 64.59375 \nL 19.828125 64.59375 \nL 19.828125 46.734375 \nQ 21.96875 47.46875 24.109375 47.828125 \nQ 26.265625 48.1875 28.421875 48.1875 \nQ 40.625 48.1875 47.75 41.5 \nQ 54.890625 34.8125 54.890625 23.390625 \nQ 54.890625 11.625 47.5625 5.09375 \nQ 40.234375 -1.421875 26.90625 -1.421875 \nQ 22.3125 -1.421875 17.546875 -0.640625 \nQ 12.796875 0.140625 7.71875 1.703125 \nL 7.71875 11.625 \nQ 12.109375 9.234375 16.796875 8.0625 \nQ 21.484375 6.890625 26.703125 6.890625 \nQ 35.15625 6.890625 40.078125 11.328125 \nQ 45.015625 15.765625 45.015625 23.390625 \nQ 45.015625 31 40.078125 35.4375 \nQ 35.15625 39.890625 26.703125 39.890625 \nQ 22.75 39.890625 18.8125 39.015625 \nQ 14.890625 38.140625 10.796875 36.28125 \nz\n\" id=\"DejaVuSans-35\"/>\n      </defs>\n      <g style=\"fill:#262626;\" transform=\"translate(91.828346 254.356563)scale(0.1 -0.1)\">\n       <use xlink:href=\"#DejaVuSans-30\"/>\n       <use x=\"63.623047\" xlink:href=\"#DejaVuSans-2e\"/>\n       <use x=\"95.410156\" xlink:href=\"#DejaVuSans-35\"/>\n      </g>\n     </g>\n    </g>\n    <g id=\"xtick_3\">\n     <g id=\"line2d_5\">\n      <path clip-path=\"url(#pf3b99d5a83)\" d=\"M 137.039645 239.758125 \nL 137.039645 22.318125 \n\" style=\"fill:none;stroke:#ffffff;stroke-linecap:round;\"/>\n     </g>\n     <g id=\"line2d_6\"/>\n     <g id=\"text_3\">\n      <!-- 1.0 -->\n      <defs>\n       <path d=\"M 12.40625 8.296875 \nL 28.515625 8.296875 \nL 28.515625 63.921875 \nL 10.984375 60.40625 \nL 10.984375 69.390625 \nL 28.421875 72.90625 \nL 38.28125 72.90625 \nL 38.28125 8.296875 \nL 54.390625 8.296875 \nL 54.390625 0 \nL 12.40625 0 \nz\n\" id=\"DejaVuSans-31\"/>\n      </defs>\n      <g style=\"fill:#262626;\" transform=\"translate(129.088082 254.356563)scale(0.1 -0.1)\">\n       <use xlink:href=\"#DejaVuSans-31\"/>\n       <use x=\"63.623047\" xlink:href=\"#DejaVuSans-2e\"/>\n       <use x=\"95.410156\" xlink:href=\"#DejaVuSans-30\"/>\n      </g>\n     </g>\n    </g>\n    <g id=\"xtick_4\">\n     <g id=\"line2d_7\">\n      <path clip-path=\"url(#pf3b99d5a83)\" d=\"M 174.299381 239.758125 \nL 174.299381 22.318125 \n\" style=\"fill:none;stroke:#ffffff;stroke-linecap:round;\"/>\n     </g>\n     <g id=\"line2d_8\"/>\n     <g id=\"text_4\">\n      <!-- 1.5 -->\n      <g style=\"fill:#262626;\" transform=\"translate(166.347818 254.356563)scale(0.1 -0.1)\">\n       <use xlink:href=\"#DejaVuSans-31\"/>\n       <use x=\"63.623047\" xlink:href=\"#DejaVuSans-2e\"/>\n       <use x=\"95.410156\" xlink:href=\"#DejaVuSans-35\"/>\n      </g>\n     </g>\n    </g>\n    <g id=\"xtick_5\">\n     <g id=\"line2d_9\">\n      <path clip-path=\"url(#pf3b99d5a83)\" d=\"M 211.559117 239.758125 \nL 211.559117 22.318125 \n\" style=\"fill:none;stroke:#ffffff;stroke-linecap:round;\"/>\n     </g>\n     <g id=\"line2d_10\"/>\n     <g id=\"text_5\">\n      <!-- 2.0 -->\n      <defs>\n       <path d=\"M 19.1875 8.296875 \nL 53.609375 8.296875 \nL 53.609375 0 \nL 7.328125 0 \nL 7.328125 8.296875 \nQ 12.9375 14.109375 22.625 23.890625 \nQ 32.328125 33.6875 34.8125 36.53125 \nQ 39.546875 41.84375 41.421875 45.53125 \nQ 43.3125 49.21875 43.3125 52.78125 \nQ 43.3125 58.59375 39.234375 62.25 \nQ 35.15625 65.921875 28.609375 65.921875 \nQ 23.96875 65.921875 18.8125 64.3125 \nQ 13.671875 62.703125 7.8125 59.421875 \nL 7.8125 69.390625 \nQ 13.765625 71.78125 18.9375 73 \nQ 24.125 74.21875 28.421875 74.21875 \nQ 39.75 74.21875 46.484375 68.546875 \nQ 53.21875 62.890625 53.21875 53.421875 \nQ 53.21875 48.921875 51.53125 44.890625 \nQ 49.859375 40.875 45.40625 35.40625 \nQ 44.1875 33.984375 37.640625 27.21875 \nQ 31.109375 20.453125 19.1875 8.296875 \nz\n\" id=\"DejaVuSans-32\"/>\n      </defs>\n      <g style=\"fill:#262626;\" transform=\"translate(203.607554 254.356563)scale(0.1 -0.1)\">\n       <use xlink:href=\"#DejaVuSans-32\"/>\n       <use x=\"63.623047\" xlink:href=\"#DejaVuSans-2e\"/>\n       <use x=\"95.410156\" xlink:href=\"#DejaVuSans-30\"/>\n      </g>\n     </g>\n    </g>\n    <g id=\"xtick_6\">\n     <g id=\"line2d_11\">\n      <path clip-path=\"url(#pf3b99d5a83)\" d=\"M 248.818853 239.758125 \nL 248.818853 22.318125 \n\" style=\"fill:none;stroke:#ffffff;stroke-linecap:round;\"/>\n     </g>\n     <g id=\"line2d_12\"/>\n     <g id=\"text_6\">\n      <!-- 2.5 -->\n      <g style=\"fill:#262626;\" transform=\"translate(240.86729 254.356563)scale(0.1 -0.1)\">\n       <use xlink:href=\"#DejaVuSans-32\"/>\n       <use x=\"63.623047\" xlink:href=\"#DejaVuSans-2e\"/>\n       <use x=\"95.410156\" xlink:href=\"#DejaVuSans-35\"/>\n      </g>\n     </g>\n    </g>\n    <g id=\"xtick_7\">\n     <g id=\"line2d_13\">\n      <path clip-path=\"url(#pf3b99d5a83)\" d=\"M 286.078589 239.758125 \nL 286.078589 22.318125 \n\" style=\"fill:none;stroke:#ffffff;stroke-linecap:round;\"/>\n     </g>\n     <g id=\"line2d_14\"/>\n     <g id=\"text_7\">\n      <!-- 3.0 -->\n      <defs>\n       <path d=\"M 40.578125 39.3125 \nQ 47.65625 37.796875 51.625 33 \nQ 55.609375 28.21875 55.609375 21.1875 \nQ 55.609375 10.40625 48.1875 4.484375 \nQ 40.765625 -1.421875 27.09375 -1.421875 \nQ 22.515625 -1.421875 17.65625 -0.515625 \nQ 12.796875 0.390625 7.625 2.203125 \nL 7.625 11.71875 \nQ 11.71875 9.328125 16.59375 8.109375 \nQ 21.484375 6.890625 26.8125 6.890625 \nQ 36.078125 6.890625 40.9375 10.546875 \nQ 45.796875 14.203125 45.796875 21.1875 \nQ 45.796875 27.640625 41.28125 31.265625 \nQ 36.765625 34.90625 28.71875 34.90625 \nL 20.21875 34.90625 \nL 20.21875 43.015625 \nL 29.109375 43.015625 \nQ 36.375 43.015625 40.234375 45.921875 \nQ 44.09375 48.828125 44.09375 54.296875 \nQ 44.09375 59.90625 40.109375 62.90625 \nQ 36.140625 65.921875 28.71875 65.921875 \nQ 24.65625 65.921875 20.015625 65.03125 \nQ 15.375 64.15625 9.8125 62.3125 \nL 9.8125 71.09375 \nQ 15.4375 72.65625 20.34375 73.4375 \nQ 25.25 74.21875 29.59375 74.21875 \nQ 40.828125 74.21875 47.359375 69.109375 \nQ 53.90625 64.015625 53.90625 55.328125 \nQ 53.90625 49.265625 50.4375 45.09375 \nQ 46.96875 40.921875 40.578125 39.3125 \nz\n\" id=\"DejaVuSans-33\"/>\n      </defs>\n      <g style=\"fill:#262626;\" transform=\"translate(278.127026 254.356563)scale(0.1 -0.1)\">\n       <use xlink:href=\"#DejaVuSans-33\"/>\n       <use x=\"63.623047\" xlink:href=\"#DejaVuSans-2e\"/>\n       <use x=\"95.410156\" xlink:href=\"#DejaVuSans-30\"/>\n      </g>\n     </g>\n    </g>\n    <g id=\"xtick_8\">\n     <g id=\"line2d_15\">\n      <path clip-path=\"url(#pf3b99d5a83)\" d=\"M 323.338324 239.758125 \nL 323.338324 22.318125 \n\" style=\"fill:none;stroke:#ffffff;stroke-linecap:round;\"/>\n     </g>\n     <g id=\"line2d_16\"/>\n     <g id=\"text_8\">\n      <!-- 3.5 -->\n      <g style=\"fill:#262626;\" transform=\"translate(315.386762 254.356563)scale(0.1 -0.1)\">\n       <use xlink:href=\"#DejaVuSans-33\"/>\n       <use x=\"63.623047\" xlink:href=\"#DejaVuSans-2e\"/>\n       <use x=\"95.410156\" xlink:href=\"#DejaVuSans-35\"/>\n      </g>\n     </g>\n    </g>\n    <g id=\"xtick_9\">\n     <g id=\"line2d_17\">\n      <path clip-path=\"url(#pf3b99d5a83)\" d=\"M 360.59806 239.758125 \nL 360.59806 22.318125 \n\" style=\"fill:none;stroke:#ffffff;stroke-linecap:round;\"/>\n     </g>\n     <g id=\"line2d_18\"/>\n     <g id=\"text_9\">\n      <!-- 4.0 -->\n      <defs>\n       <path d=\"M 37.796875 64.3125 \nL 12.890625 25.390625 \nL 37.796875 25.390625 \nz\nM 35.203125 72.90625 \nL 47.609375 72.90625 \nL 47.609375 25.390625 \nL 58.015625 25.390625 \nL 58.015625 17.1875 \nL 47.609375 17.1875 \nL 47.609375 0 \nL 37.796875 0 \nL 37.796875 17.1875 \nL 4.890625 17.1875 \nL 4.890625 26.703125 \nz\n\" id=\"DejaVuSans-34\"/>\n      </defs>\n      <g style=\"fill:#262626;\" transform=\"translate(352.646498 254.356563)scale(0.1 -0.1)\">\n       <use xlink:href=\"#DejaVuSans-34\"/>\n       <use x=\"63.623047\" xlink:href=\"#DejaVuSans-2e\"/>\n       <use x=\"95.410156\" xlink:href=\"#DejaVuSans-30\"/>\n      </g>\n     </g>\n    </g>\n    <g id=\"text_10\">\n     <!-- Ride duration (hrs) -->\n     <defs>\n      <path d=\"M 44.390625 34.1875 \nQ 47.5625 33.109375 50.5625 29.59375 \nQ 53.5625 26.078125 56.59375 19.921875 \nL 66.609375 0 \nL 56 0 \nL 46.6875 18.703125 \nQ 43.0625 26.03125 39.671875 28.421875 \nQ 36.28125 30.8125 30.421875 30.8125 \nL 19.671875 30.8125 \nL 19.671875 0 \nL 9.8125 0 \nL 9.8125 72.90625 \nL 32.078125 72.90625 \nQ 44.578125 72.90625 50.734375 67.671875 \nQ 56.890625 62.453125 56.890625 51.90625 \nQ 56.890625 45.015625 53.6875 40.46875 \nQ 50.484375 35.9375 44.390625 34.1875 \nz\nM 19.671875 64.796875 \nL 19.671875 38.921875 \nL 32.078125 38.921875 \nQ 39.203125 38.921875 42.84375 42.21875 \nQ 46.484375 45.515625 46.484375 51.90625 \nQ 46.484375 58.296875 42.84375 61.546875 \nQ 39.203125 64.796875 32.078125 64.796875 \nz\n\" id=\"DejaVuSans-52\"/>\n      <path d=\"M 9.421875 54.6875 \nL 18.40625 54.6875 \nL 18.40625 0 \nL 9.421875 0 \nz\nM 9.421875 75.984375 \nL 18.40625 75.984375 \nL 18.40625 64.59375 \nL 9.421875 64.59375 \nz\n\" id=\"DejaVuSans-69\"/>\n      <path d=\"M 45.40625 46.390625 \nL 45.40625 75.984375 \nL 54.390625 75.984375 \nL 54.390625 0 \nL 45.40625 0 \nL 45.40625 8.203125 \nQ 42.578125 3.328125 38.25 0.953125 \nQ 33.9375 -1.421875 27.875 -1.421875 \nQ 17.96875 -1.421875 11.734375 6.484375 \nQ 5.515625 14.40625 5.515625 27.296875 \nQ 5.515625 40.1875 11.734375 48.09375 \nQ 17.96875 56 27.875 56 \nQ 33.9375 56 38.25 53.625 \nQ 42.578125 51.265625 45.40625 46.390625 \nz\nM 14.796875 27.296875 \nQ 14.796875 17.390625 18.875 11.75 \nQ 22.953125 6.109375 30.078125 6.109375 \nQ 37.203125 6.109375 41.296875 11.75 \nQ 45.40625 17.390625 45.40625 27.296875 \nQ 45.40625 37.203125 41.296875 42.84375 \nQ 37.203125 48.484375 30.078125 48.484375 \nQ 22.953125 48.484375 18.875 42.84375 \nQ 14.796875 37.203125 14.796875 27.296875 \nz\n\" id=\"DejaVuSans-64\"/>\n      <path d=\"M 56.203125 29.59375 \nL 56.203125 25.203125 \nL 14.890625 25.203125 \nQ 15.484375 15.921875 20.484375 11.0625 \nQ 25.484375 6.203125 34.421875 6.203125 \nQ 39.59375 6.203125 44.453125 7.46875 \nQ 49.3125 8.734375 54.109375 11.28125 \nL 54.109375 2.78125 \nQ 49.265625 0.734375 44.1875 -0.34375 \nQ 39.109375 -1.421875 33.890625 -1.421875 \nQ 20.796875 -1.421875 13.15625 6.1875 \nQ 5.515625 13.8125 5.515625 26.8125 \nQ 5.515625 40.234375 12.765625 48.109375 \nQ 20.015625 56 32.328125 56 \nQ 43.359375 56 49.78125 48.890625 \nQ 56.203125 41.796875 56.203125 29.59375 \nz\nM 47.21875 32.234375 \nQ 47.125 39.59375 43.09375 43.984375 \nQ 39.0625 48.390625 32.421875 48.390625 \nQ 24.90625 48.390625 20.390625 44.140625 \nQ 15.875 39.890625 15.1875 32.171875 \nz\n\" id=\"DejaVuSans-65\"/>\n      <path id=\"DejaVuSans-20\"/>\n      <path d=\"M 8.5 21.578125 \nL 8.5 54.6875 \nL 17.484375 54.6875 \nL 17.484375 21.921875 \nQ 17.484375 14.15625 20.5 10.265625 \nQ 23.53125 6.390625 29.59375 6.390625 \nQ 36.859375 6.390625 41.078125 11.03125 \nQ 45.3125 15.671875 45.3125 23.6875 \nL 45.3125 54.6875 \nL 54.296875 54.6875 \nL 54.296875 0 \nL 45.3125 0 \nL 45.3125 8.40625 \nQ 42.046875 3.421875 37.71875 1 \nQ 33.40625 -1.421875 27.6875 -1.421875 \nQ 18.265625 -1.421875 13.375 4.4375 \nQ 8.5 10.296875 8.5 21.578125 \nz\nM 31.109375 56 \nz\n\" id=\"DejaVuSans-75\"/>\n      <path d=\"M 41.109375 46.296875 \nQ 39.59375 47.171875 37.8125 47.578125 \nQ 36.03125 48 33.890625 48 \nQ 26.265625 48 22.1875 43.046875 \nQ 18.109375 38.09375 18.109375 28.8125 \nL 18.109375 0 \nL 9.078125 0 \nL 9.078125 54.6875 \nL 18.109375 54.6875 \nL 18.109375 46.1875 \nQ 20.953125 51.171875 25.484375 53.578125 \nQ 30.03125 56 36.53125 56 \nQ 37.453125 56 38.578125 55.875 \nQ 39.703125 55.765625 41.0625 55.515625 \nz\n\" id=\"DejaVuSans-72\"/>\n      <path d=\"M 34.28125 27.484375 \nQ 23.390625 27.484375 19.1875 25 \nQ 14.984375 22.515625 14.984375 16.5 \nQ 14.984375 11.71875 18.140625 8.90625 \nQ 21.296875 6.109375 26.703125 6.109375 \nQ 34.1875 6.109375 38.703125 11.40625 \nQ 43.21875 16.703125 43.21875 25.484375 \nL 43.21875 27.484375 \nz\nM 52.203125 31.203125 \nL 52.203125 0 \nL 43.21875 0 \nL 43.21875 8.296875 \nQ 40.140625 3.328125 35.546875 0.953125 \nQ 30.953125 -1.421875 24.3125 -1.421875 \nQ 15.921875 -1.421875 10.953125 3.296875 \nQ 6 8.015625 6 15.921875 \nQ 6 25.140625 12.171875 29.828125 \nQ 18.359375 34.515625 30.609375 34.515625 \nL 43.21875 34.515625 \nL 43.21875 35.40625 \nQ 43.21875 41.609375 39.140625 45 \nQ 35.0625 48.390625 27.6875 48.390625 \nQ 23 48.390625 18.546875 47.265625 \nQ 14.109375 46.140625 10.015625 43.890625 \nL 10.015625 52.203125 \nQ 14.9375 54.109375 19.578125 55.046875 \nQ 24.21875 56 28.609375 56 \nQ 40.484375 56 46.34375 49.84375 \nQ 52.203125 43.703125 52.203125 31.203125 \nz\n\" id=\"DejaVuSans-61\"/>\n      <path d=\"M 18.3125 70.21875 \nL 18.3125 54.6875 \nL 36.8125 54.6875 \nL 36.8125 47.703125 \nL 18.3125 47.703125 \nL 18.3125 18.015625 \nQ 18.3125 11.328125 20.140625 9.421875 \nQ 21.96875 7.515625 27.59375 7.515625 \nL 36.8125 7.515625 \nL 36.8125 0 \nL 27.59375 0 \nQ 17.1875 0 13.234375 3.875 \nQ 9.28125 7.765625 9.28125 18.015625 \nL 9.28125 47.703125 \nL 2.6875 47.703125 \nL 2.6875 54.6875 \nL 9.28125 54.6875 \nL 9.28125 70.21875 \nz\n\" id=\"DejaVuSans-74\"/>\n      <path d=\"M 30.609375 48.390625 \nQ 23.390625 48.390625 19.1875 42.75 \nQ 14.984375 37.109375 14.984375 27.296875 \nQ 14.984375 17.484375 19.15625 11.84375 \nQ 23.34375 6.203125 30.609375 6.203125 \nQ 37.796875 6.203125 41.984375 11.859375 \nQ 46.1875 17.53125 46.1875 27.296875 \nQ 46.1875 37.015625 41.984375 42.703125 \nQ 37.796875 48.390625 30.609375 48.390625 \nz\nM 30.609375 56 \nQ 42.328125 56 49.015625 48.375 \nQ 55.71875 40.765625 55.71875 27.296875 \nQ 55.71875 13.875 49.015625 6.21875 \nQ 42.328125 -1.421875 30.609375 -1.421875 \nQ 18.84375 -1.421875 12.171875 6.21875 \nQ 5.515625 13.875 5.515625 27.296875 \nQ 5.515625 40.765625 12.171875 48.375 \nQ 18.84375 56 30.609375 56 \nz\n\" id=\"DejaVuSans-6f\"/>\n      <path d=\"M 54.890625 33.015625 \nL 54.890625 0 \nL 45.90625 0 \nL 45.90625 32.71875 \nQ 45.90625 40.484375 42.875 44.328125 \nQ 39.84375 48.1875 33.796875 48.1875 \nQ 26.515625 48.1875 22.3125 43.546875 \nQ 18.109375 38.921875 18.109375 30.90625 \nL 18.109375 0 \nL 9.078125 0 \nL 9.078125 54.6875 \nL 18.109375 54.6875 \nL 18.109375 46.1875 \nQ 21.34375 51.125 25.703125 53.5625 \nQ 30.078125 56 35.796875 56 \nQ 45.21875 56 50.046875 50.171875 \nQ 54.890625 44.34375 54.890625 33.015625 \nz\n\" id=\"DejaVuSans-6e\"/>\n      <path d=\"M 31 75.875 \nQ 24.46875 64.65625 21.28125 53.65625 \nQ 18.109375 42.671875 18.109375 31.390625 \nQ 18.109375 20.125 21.3125 9.0625 \nQ 24.515625 -2 31 -13.1875 \nL 23.1875 -13.1875 \nQ 15.875 -1.703125 12.234375 9.375 \nQ 8.59375 20.453125 8.59375 31.390625 \nQ 8.59375 42.28125 12.203125 53.3125 \nQ 15.828125 64.359375 23.1875 75.875 \nz\n\" id=\"DejaVuSans-28\"/>\n      <path d=\"M 54.890625 33.015625 \nL 54.890625 0 \nL 45.90625 0 \nL 45.90625 32.71875 \nQ 45.90625 40.484375 42.875 44.328125 \nQ 39.84375 48.1875 33.796875 48.1875 \nQ 26.515625 48.1875 22.3125 43.546875 \nQ 18.109375 38.921875 18.109375 30.90625 \nL 18.109375 0 \nL 9.078125 0 \nL 9.078125 75.984375 \nL 18.109375 75.984375 \nL 18.109375 46.1875 \nQ 21.34375 51.125 25.703125 53.5625 \nQ 30.078125 56 35.796875 56 \nQ 45.21875 56 50.046875 50.171875 \nQ 54.890625 44.34375 54.890625 33.015625 \nz\n\" id=\"DejaVuSans-68\"/>\n      <path d=\"M 44.28125 53.078125 \nL 44.28125 44.578125 \nQ 40.484375 46.53125 36.375 47.5 \nQ 32.28125 48.484375 27.875 48.484375 \nQ 21.1875 48.484375 17.84375 46.4375 \nQ 14.5 44.390625 14.5 40.28125 \nQ 14.5 37.15625 16.890625 35.375 \nQ 19.28125 33.59375 26.515625 31.984375 \nL 29.59375 31.296875 \nQ 39.15625 29.25 43.1875 25.515625 \nQ 47.21875 21.78125 47.21875 15.09375 \nQ 47.21875 7.46875 41.1875 3.015625 \nQ 35.15625 -1.421875 24.609375 -1.421875 \nQ 20.21875 -1.421875 15.453125 -0.5625 \nQ 10.6875 0.296875 5.421875 2 \nL 5.421875 11.28125 \nQ 10.40625 8.6875 15.234375 7.390625 \nQ 20.0625 6.109375 24.8125 6.109375 \nQ 31.15625 6.109375 34.5625 8.28125 \nQ 37.984375 10.453125 37.984375 14.40625 \nQ 37.984375 18.0625 35.515625 20.015625 \nQ 33.0625 21.96875 24.703125 23.78125 \nL 21.578125 24.515625 \nQ 13.234375 26.265625 9.515625 29.90625 \nQ 5.8125 33.546875 5.8125 39.890625 \nQ 5.8125 47.609375 11.28125 51.796875 \nQ 16.75 56 26.8125 56 \nQ 31.78125 56 36.171875 55.265625 \nQ 40.578125 54.546875 44.28125 53.078125 \nz\n\" id=\"DejaVuSans-73\"/>\n      <path d=\"M 8.015625 75.875 \nL 15.828125 75.875 \nQ 23.140625 64.359375 26.78125 53.3125 \nQ 30.421875 42.28125 30.421875 31.390625 \nQ 30.421875 20.453125 26.78125 9.375 \nQ 23.140625 -1.703125 15.828125 -13.1875 \nL 8.015625 -13.1875 \nQ 14.5 -2 17.703125 9.0625 \nQ 20.90625 20.125 20.90625 31.390625 \nQ 20.90625 42.671875 17.703125 53.65625 \nQ 14.5 64.65625 8.015625 75.875 \nz\n\" id=\"DejaVuSans-29\"/>\n     </defs>\n     <g style=\"fill:#262626;\" transform=\"translate(160.380313 268.794531)scale(0.11 -0.11)\">\n      <use xlink:href=\"#DejaVuSans-52\"/>\n      <use x=\"69.482422\" xlink:href=\"#DejaVuSans-69\"/>\n      <use x=\"97.265625\" xlink:href=\"#DejaVuSans-64\"/>\n      <use x=\"160.742188\" xlink:href=\"#DejaVuSans-65\"/>\n      <use x=\"222.265625\" xlink:href=\"#DejaVuSans-20\"/>\n      <use x=\"254.052734\" xlink:href=\"#DejaVuSans-64\"/>\n      <use x=\"317.529297\" xlink:href=\"#DejaVuSans-75\"/>\n      <use x=\"380.908203\" xlink:href=\"#DejaVuSans-72\"/>\n      <use x=\"422.021484\" xlink:href=\"#DejaVuSans-61\"/>\n      <use x=\"483.300781\" xlink:href=\"#DejaVuSans-74\"/>\n      <use x=\"522.509766\" xlink:href=\"#DejaVuSans-69\"/>\n      <use x=\"550.292969\" xlink:href=\"#DejaVuSans-6f\"/>\n      <use x=\"611.474609\" xlink:href=\"#DejaVuSans-6e\"/>\n      <use x=\"674.853516\" xlink:href=\"#DejaVuSans-20\"/>\n      <use x=\"706.640625\" xlink:href=\"#DejaVuSans-28\"/>\n      <use x=\"745.654297\" xlink:href=\"#DejaVuSans-68\"/>\n      <use x=\"809.033203\" xlink:href=\"#DejaVuSans-72\"/>\n      <use x=\"850.146484\" xlink:href=\"#DejaVuSans-73\"/>\n      <use x=\"902.246094\" xlink:href=\"#DejaVuSans-29\"/>\n     </g>\n    </g>\n   </g>\n   <g id=\"matplotlib.axis_2\">\n    <g id=\"ytick_1\">\n     <g id=\"line2d_19\">\n      <path clip-path=\"url(#pf3b99d5a83)\" d=\"M 44.749063 239.758125 \nL 379.549062 239.758125 \n\" style=\"fill:none;stroke:#ffffff;stroke-linecap:round;\"/>\n     </g>\n     <g id=\"line2d_20\"/>\n     <g id=\"text_11\">\n      <!-- 0.0 -->\n      <g style=\"fill:#262626;\" transform=\"translate(21.845938 243.557344)scale(0.1 -0.1)\">\n       <use xlink:href=\"#DejaVuSans-30\"/>\n       <use x=\"63.623047\" xlink:href=\"#DejaVuSans-2e\"/>\n       <use x=\"95.410156\" xlink:href=\"#DejaVuSans-30\"/>\n      </g>\n     </g>\n    </g>\n    <g id=\"ytick_2\">\n     <g id=\"line2d_21\">\n      <path clip-path=\"url(#pf3b99d5a83)\" d=\"M 44.749063 208.665837 \nL 379.549062 208.665837 \n\" style=\"fill:none;stroke:#ffffff;stroke-linecap:round;\"/>\n     </g>\n     <g id=\"line2d_22\"/>\n     <g id=\"text_12\">\n      <!-- 0.5 -->\n      <g style=\"fill:#262626;\" transform=\"translate(21.845938 212.465056)scale(0.1 -0.1)\">\n       <use xlink:href=\"#DejaVuSans-30\"/>\n       <use x=\"63.623047\" xlink:href=\"#DejaVuSans-2e\"/>\n       <use x=\"95.410156\" xlink:href=\"#DejaVuSans-35\"/>\n      </g>\n     </g>\n    </g>\n    <g id=\"ytick_3\">\n     <g id=\"line2d_23\">\n      <path clip-path=\"url(#pf3b99d5a83)\" d=\"M 44.749063 177.573549 \nL 379.549062 177.573549 \n\" style=\"fill:none;stroke:#ffffff;stroke-linecap:round;\"/>\n     </g>\n     <g id=\"line2d_24\"/>\n     <g id=\"text_13\">\n      <!-- 1.0 -->\n      <g style=\"fill:#262626;\" transform=\"translate(21.845938 181.372768)scale(0.1 -0.1)\">\n       <use xlink:href=\"#DejaVuSans-31\"/>\n       <use x=\"63.623047\" xlink:href=\"#DejaVuSans-2e\"/>\n       <use x=\"95.410156\" xlink:href=\"#DejaVuSans-30\"/>\n      </g>\n     </g>\n    </g>\n    <g id=\"ytick_4\">\n     <g id=\"line2d_25\">\n      <path clip-path=\"url(#pf3b99d5a83)\" d=\"M 44.749063 146.481261 \nL 379.549062 146.481261 \n\" style=\"fill:none;stroke:#ffffff;stroke-linecap:round;\"/>\n     </g>\n     <g id=\"line2d_26\"/>\n     <g id=\"text_14\">\n      <!-- 1.5 -->\n      <g style=\"fill:#262626;\" transform=\"translate(21.845938 150.28048)scale(0.1 -0.1)\">\n       <use xlink:href=\"#DejaVuSans-31\"/>\n       <use x=\"63.623047\" xlink:href=\"#DejaVuSans-2e\"/>\n       <use x=\"95.410156\" xlink:href=\"#DejaVuSans-35\"/>\n      </g>\n     </g>\n    </g>\n    <g id=\"ytick_5\">\n     <g id=\"line2d_27\">\n      <path clip-path=\"url(#pf3b99d5a83)\" d=\"M 44.749063 115.388973 \nL 379.549062 115.388973 \n\" style=\"fill:none;stroke:#ffffff;stroke-linecap:round;\"/>\n     </g>\n     <g id=\"line2d_28\"/>\n     <g id=\"text_15\">\n      <!-- 2.0 -->\n      <g style=\"fill:#262626;\" transform=\"translate(21.845938 119.188192)scale(0.1 -0.1)\">\n       <use xlink:href=\"#DejaVuSans-32\"/>\n       <use x=\"63.623047\" xlink:href=\"#DejaVuSans-2e\"/>\n       <use x=\"95.410156\" xlink:href=\"#DejaVuSans-30\"/>\n      </g>\n     </g>\n    </g>\n    <g id=\"ytick_6\">\n     <g id=\"line2d_29\">\n      <path clip-path=\"url(#pf3b99d5a83)\" d=\"M 44.749063 84.296685 \nL 379.549062 84.296685 \n\" style=\"fill:none;stroke:#ffffff;stroke-linecap:round;\"/>\n     </g>\n     <g id=\"line2d_30\"/>\n     <g id=\"text_16\">\n      <!-- 2.5 -->\n      <g style=\"fill:#262626;\" transform=\"translate(21.845938 88.095904)scale(0.1 -0.1)\">\n       <use xlink:href=\"#DejaVuSans-32\"/>\n       <use x=\"63.623047\" xlink:href=\"#DejaVuSans-2e\"/>\n       <use x=\"95.410156\" xlink:href=\"#DejaVuSans-35\"/>\n      </g>\n     </g>\n    </g>\n    <g id=\"ytick_7\">\n     <g id=\"line2d_31\">\n      <path clip-path=\"url(#pf3b99d5a83)\" d=\"M 44.749063 53.204397 \nL 379.549062 53.204397 \n\" style=\"fill:none;stroke:#ffffff;stroke-linecap:round;\"/>\n     </g>\n     <g id=\"line2d_32\"/>\n     <g id=\"text_17\">\n      <!-- 3.0 -->\n      <g style=\"fill:#262626;\" transform=\"translate(21.845938 57.003616)scale(0.1 -0.1)\">\n       <use xlink:href=\"#DejaVuSans-33\"/>\n       <use x=\"63.623047\" xlink:href=\"#DejaVuSans-2e\"/>\n       <use x=\"95.410156\" xlink:href=\"#DejaVuSans-30\"/>\n      </g>\n     </g>\n    </g>\n    <g id=\"ytick_8\">\n     <g id=\"line2d_33\">\n      <path clip-path=\"url(#pf3b99d5a83)\" d=\"M 44.749063 22.112109 \nL 379.549062 22.112109 \n\" style=\"fill:none;stroke:#ffffff;stroke-linecap:round;\"/>\n     </g>\n     <g id=\"line2d_34\"/>\n     <g id=\"text_18\">\n      <!-- 3.5 -->\n      <g style=\"fill:#262626;\" transform=\"translate(21.845938 25.911328)scale(0.1 -0.1)\">\n       <use xlink:href=\"#DejaVuSans-33\"/>\n       <use x=\"63.623047\" xlink:href=\"#DejaVuSans-2e\"/>\n       <use x=\"95.410156\" xlink:href=\"#DejaVuSans-35\"/>\n      </g>\n     </g>\n    </g>\n    <g id=\"text_19\">\n     <!-- Number of Trips -->\n     <defs>\n      <path d=\"M 9.8125 72.90625 \nL 23.09375 72.90625 \nL 55.421875 11.921875 \nL 55.421875 72.90625 \nL 64.984375 72.90625 \nL 64.984375 0 \nL 51.703125 0 \nL 19.390625 60.984375 \nL 19.390625 0 \nL 9.8125 0 \nz\n\" id=\"DejaVuSans-4e\"/>\n      <path d=\"M 52 44.1875 \nQ 55.375 50.25 60.0625 53.125 \nQ 64.75 56 71.09375 56 \nQ 79.640625 56 84.28125 50.015625 \nQ 88.921875 44.046875 88.921875 33.015625 \nL 88.921875 0 \nL 79.890625 0 \nL 79.890625 32.71875 \nQ 79.890625 40.578125 77.09375 44.375 \nQ 74.3125 48.1875 68.609375 48.1875 \nQ 61.625 48.1875 57.5625 43.546875 \nQ 53.515625 38.921875 53.515625 30.90625 \nL 53.515625 0 \nL 44.484375 0 \nL 44.484375 32.71875 \nQ 44.484375 40.625 41.703125 44.40625 \nQ 38.921875 48.1875 33.109375 48.1875 \nQ 26.21875 48.1875 22.15625 43.53125 \nQ 18.109375 38.875 18.109375 30.90625 \nL 18.109375 0 \nL 9.078125 0 \nL 9.078125 54.6875 \nL 18.109375 54.6875 \nL 18.109375 46.1875 \nQ 21.1875 51.21875 25.484375 53.609375 \nQ 29.78125 56 35.6875 56 \nQ 41.65625 56 45.828125 52.96875 \nQ 50 49.953125 52 44.1875 \nz\n\" id=\"DejaVuSans-6d\"/>\n      <path d=\"M 48.6875 27.296875 \nQ 48.6875 37.203125 44.609375 42.84375 \nQ 40.53125 48.484375 33.40625 48.484375 \nQ 26.265625 48.484375 22.1875 42.84375 \nQ 18.109375 37.203125 18.109375 27.296875 \nQ 18.109375 17.390625 22.1875 11.75 \nQ 26.265625 6.109375 33.40625 6.109375 \nQ 40.53125 6.109375 44.609375 11.75 \nQ 48.6875 17.390625 48.6875 27.296875 \nz\nM 18.109375 46.390625 \nQ 20.953125 51.265625 25.265625 53.625 \nQ 29.59375 56 35.59375 56 \nQ 45.5625 56 51.78125 48.09375 \nQ 58.015625 40.1875 58.015625 27.296875 \nQ 58.015625 14.40625 51.78125 6.484375 \nQ 45.5625 -1.421875 35.59375 -1.421875 \nQ 29.59375 -1.421875 25.265625 0.953125 \nQ 20.953125 3.328125 18.109375 8.203125 \nL 18.109375 0 \nL 9.078125 0 \nL 9.078125 75.984375 \nL 18.109375 75.984375 \nz\n\" id=\"DejaVuSans-62\"/>\n      <path d=\"M 37.109375 75.984375 \nL 37.109375 68.5 \nL 28.515625 68.5 \nQ 23.6875 68.5 21.796875 66.546875 \nQ 19.921875 64.59375 19.921875 59.515625 \nL 19.921875 54.6875 \nL 34.71875 54.6875 \nL 34.71875 47.703125 \nL 19.921875 47.703125 \nL 19.921875 0 \nL 10.890625 0 \nL 10.890625 47.703125 \nL 2.296875 47.703125 \nL 2.296875 54.6875 \nL 10.890625 54.6875 \nL 10.890625 58.5 \nQ 10.890625 67.625 15.140625 71.796875 \nQ 19.390625 75.984375 28.609375 75.984375 \nz\n\" id=\"DejaVuSans-66\"/>\n      <path d=\"M -0.296875 72.90625 \nL 61.375 72.90625 \nL 61.375 64.59375 \nL 35.5 64.59375 \nL 35.5 0 \nL 25.59375 0 \nL 25.59375 64.59375 \nL -0.296875 64.59375 \nz\n\" id=\"DejaVuSans-54\"/>\n      <path d=\"M 18.109375 8.203125 \nL 18.109375 -20.796875 \nL 9.078125 -20.796875 \nL 9.078125 54.6875 \nL 18.109375 54.6875 \nL 18.109375 46.390625 \nQ 20.953125 51.265625 25.265625 53.625 \nQ 29.59375 56 35.59375 56 \nQ 45.5625 56 51.78125 48.09375 \nQ 58.015625 40.1875 58.015625 27.296875 \nQ 58.015625 14.40625 51.78125 6.484375 \nQ 45.5625 -1.421875 35.59375 -1.421875 \nQ 29.59375 -1.421875 25.265625 0.953125 \nQ 20.953125 3.328125 18.109375 8.203125 \nz\nM 48.6875 27.296875 \nQ 48.6875 37.203125 44.609375 42.84375 \nQ 40.53125 48.484375 33.40625 48.484375 \nQ 26.265625 48.484375 22.1875 42.84375 \nQ 18.109375 37.203125 18.109375 27.296875 \nQ 18.109375 17.390625 22.1875 11.75 \nQ 26.265625 6.109375 33.40625 6.109375 \nQ 40.53125 6.109375 44.609375 11.75 \nQ 48.6875 17.390625 48.6875 27.296875 \nz\n\" id=\"DejaVuSans-70\"/>\n     </defs>\n     <g style=\"fill:#262626;\" transform=\"translate(15.558281 175.423125)rotate(-90)scale(0.11 -0.11)\">\n      <use xlink:href=\"#DejaVuSans-4e\"/>\n      <use x=\"74.804688\" xlink:href=\"#DejaVuSans-75\"/>\n      <use x=\"138.183594\" xlink:href=\"#DejaVuSans-6d\"/>\n      <use x=\"235.595703\" xlink:href=\"#DejaVuSans-62\"/>\n      <use x=\"299.072266\" xlink:href=\"#DejaVuSans-65\"/>\n      <use x=\"360.595703\" xlink:href=\"#DejaVuSans-72\"/>\n      <use x=\"401.708984\" xlink:href=\"#DejaVuSans-20\"/>\n      <use x=\"433.496094\" xlink:href=\"#DejaVuSans-6f\"/>\n      <use x=\"494.677734\" xlink:href=\"#DejaVuSans-66\"/>\n      <use x=\"529.882812\" xlink:href=\"#DejaVuSans-20\"/>\n      <use x=\"561.669922\" xlink:href=\"#DejaVuSans-54\"/>\n      <use x=\"622.535156\" xlink:href=\"#DejaVuSans-72\"/>\n      <use x=\"663.648438\" xlink:href=\"#DejaVuSans-69\"/>\n      <use x=\"691.431641\" xlink:href=\"#DejaVuSans-70\"/>\n      <use x=\"754.908203\" xlink:href=\"#DejaVuSans-73\"/>\n     </g>\n    </g>\n   </g>\n   <g id=\"patch_3\">\n    <path clip-path=\"url(#pf3b99d5a83)\" d=\"M 63.762164 239.758125 \nL 69.69764 239.758125 \nL 69.69764 88.070718 \nL 63.762164 88.070718 \nz\n\" style=\"fill:#4c72b0;opacity:0.4;\"/>\n   </g>\n   <g id=\"patch_4\">\n    <path clip-path=\"url(#pf3b99d5a83)\" d=\"M 69.69764 239.758125 \nL 75.633116 239.758125 \nL 75.633116 56.850752 \nL 69.69764 56.850752 \nz\n\" style=\"fill:#4c72b0;opacity:0.4;\"/>\n   </g>\n   <g id=\"patch_5\">\n    <path clip-path=\"url(#pf3b99d5a83)\" d=\"M 75.633116 239.758125 \nL 81.568592 239.758125 \nL 81.568592 126.440387 \nL 75.633116 126.440387 \nz\n\" style=\"fill:#4c72b0;opacity:0.4;\"/>\n   </g>\n   <g id=\"patch_6\">\n    <path clip-path=\"url(#pf3b99d5a83)\" d=\"M 81.568592 239.758125 \nL 87.504068 239.758125 \nL 87.504068 159.052044 \nL 81.568592 159.052044 \nz\n\" style=\"fill:#4c72b0;opacity:0.4;\"/>\n   </g>\n   <g id=\"patch_7\">\n    <path clip-path=\"url(#pf3b99d5a83)\" d=\"M 87.504068 239.758125 \nL 93.439544 239.758125 \nL 93.439544 176.201424 \nL 87.504068 176.201424 \nz\n\" style=\"fill:#4c72b0;opacity:0.4;\"/>\n   </g>\n   <g id=\"patch_8\">\n    <path clip-path=\"url(#pf3b99d5a83)\" d=\"M 93.439544 239.758125 \nL 99.37502 239.758125 \nL 99.37502 188.439761 \nL 93.439544 188.439761 \nz\n\" style=\"fill:#4c72b0;opacity:0.4;\"/>\n   </g>\n   <g id=\"patch_9\">\n    <path clip-path=\"url(#pf3b99d5a83)\" d=\"M 99.37502 239.758125 \nL 105.310496 239.758125 \nL 105.310496 207.368456 \nL 99.37502 207.368456 \nz\n\" style=\"fill:#4c72b0;opacity:0.4;\"/>\n   </g>\n   <g id=\"patch_10\">\n    <path clip-path=\"url(#pf3b99d5a83)\" d=\"M 105.310496 239.758125 \nL 111.245972 239.758125 \nL 111.245972 219.249904 \nL 105.310496 219.249904 \nz\n\" style=\"fill:#4c72b0;opacity:0.4;\"/>\n   </g>\n   <g id=\"patch_11\">\n    <path clip-path=\"url(#pf3b99d5a83)\" d=\"M 111.245972 239.758125 \nL 117.181448 239.758125 \nL 117.181448 224.422211 \nL 111.245972 224.422211 \nz\n\" style=\"fill:#4c72b0;opacity:0.4;\"/>\n   </g>\n   <g id=\"patch_12\">\n    <path clip-path=\"url(#pf3b99d5a83)\" d=\"M 117.181448 239.758125 \nL 123.116924 239.758125 \nL 123.116924 228.213073 \nL 117.181448 228.213073 \nz\n\" style=\"fill:#4c72b0;opacity:0.4;\"/>\n   </g>\n   <g id=\"patch_13\">\n    <path clip-path=\"url(#pf3b99d5a83)\" d=\"M 123.116924 239.758125 \nL 129.052399 239.758125 \nL 129.052399 230.294631 \nL 123.116924 230.294631 \nz\n\" style=\"fill:#4c72b0;opacity:0.4;\"/>\n   </g>\n   <g id=\"patch_14\">\n    <path clip-path=\"url(#pf3b99d5a83)\" d=\"M 129.052399 239.758125 \nL 134.987875 239.758125 \nL 134.987875 232.207138 \nL 129.052399 232.207138 \nz\n\" style=\"fill:#4c72b0;opacity:0.4;\"/>\n   </g>\n   <g id=\"patch_15\">\n    <path clip-path=\"url(#pf3b99d5a83)\" d=\"M 134.987875 239.758125 \nL 140.923351 239.758125 \nL 140.923351 234.449211 \nL 134.987875 234.449211 \nz\n\" style=\"fill:#4c72b0;opacity:0.4;\"/>\n   </g>\n   <g id=\"patch_16\">\n    <path clip-path=\"url(#pf3b99d5a83)\" d=\"M 140.923351 239.758125 \nL 146.858827 239.758125 \nL 146.858827 235.345698 \nL 140.923351 235.345698 \nz\n\" style=\"fill:#4c72b0;opacity:0.4;\"/>\n   </g>\n   <g id=\"patch_17\">\n    <path clip-path=\"url(#pf3b99d5a83)\" d=\"M 146.858827 239.758125 \nL 152.794303 239.758125 \nL 152.794303 236.206327 \nL 146.858827 236.206327 \nz\n\" style=\"fill:#4c72b0;opacity:0.4;\"/>\n   </g>\n   <g id=\"patch_18\">\n    <path clip-path=\"url(#pf3b99d5a83)\" d=\"M 152.794303 239.758125 \nL 158.729779 239.758125 \nL 158.729779 236.66567 \nL 152.794303 236.66567 \nz\n\" style=\"fill:#4c72b0;opacity:0.4;\"/>\n   </g>\n   <g id=\"patch_19\">\n    <path clip-path=\"url(#pf3b99d5a83)\" d=\"M 158.729779 239.758125 \nL 164.665255 239.758125 \nL 164.665255 237.128428 \nL 158.729779 237.128428 \nz\n\" style=\"fill:#4c72b0;opacity:0.4;\"/>\n   </g>\n   <g id=\"patch_20\">\n    <path clip-path=\"url(#pf3b99d5a83)\" d=\"M 164.665255 239.758125 \nL 170.600731 239.758125 \nL 170.600731 237.239422 \nL 164.665255 237.239422 \nz\n\" style=\"fill:#4c72b0;opacity:0.4;\"/>\n   </g>\n   <g id=\"patch_21\">\n    <path clip-path=\"url(#pf3b99d5a83)\" d=\"M 170.600731 239.758125 \nL 176.536207 239.758125 \nL 176.536207 237.74487 \nL 170.600731 237.74487 \nz\n\" style=\"fill:#4c72b0;opacity:0.4;\"/>\n   </g>\n   <g id=\"patch_22\">\n    <path clip-path=\"url(#pf3b99d5a83)\" d=\"M 176.536207 239.758125 \nL 182.471683 239.758125 \nL 182.471683 237.920752 \nL 176.536207 237.920752 \nz\n\" style=\"fill:#4c72b0;opacity:0.4;\"/>\n   </g>\n   <g id=\"patch_23\">\n    <path clip-path=\"url(#pf3b99d5a83)\" d=\"M 182.471683 239.758125 \nL 188.407159 239.758125 \nL 188.407159 238.207628 \nL 182.471683 238.207628 \nz\n\" style=\"fill:#4c72b0;opacity:0.4;\"/>\n   </g>\n   <g id=\"patch_24\">\n    <path clip-path=\"url(#pf3b99d5a83)\" d=\"M 188.407159 239.758125 \nL 194.342635 239.758125 \nL 194.342635 238.32716 \nL 188.407159 238.32716 \nz\n\" style=\"fill:#4c72b0;opacity:0.4;\"/>\n   </g>\n   <g id=\"patch_25\">\n    <path clip-path=\"url(#pf3b99d5a83)\" d=\"M 194.342635 239.758125 \nL 200.278111 239.758125 \nL 200.278111 238.448399 \nL 194.342635 238.448399 \nz\n\" style=\"fill:#4c72b0;opacity:0.4;\"/>\n   </g>\n   <g id=\"patch_26\">\n    <path clip-path=\"url(#pf3b99d5a83)\" d=\"M 200.278111 239.758125 \nL 206.213587 239.758125 \nL 206.213587 238.783088 \nL 200.278111 238.783088 \nz\n\" style=\"fill:#4c72b0;opacity:0.4;\"/>\n   </g>\n   <g id=\"patch_27\">\n    <path clip-path=\"url(#pf3b99d5a83)\" d=\"M 206.213587 239.758125 \nL 212.149062 239.758125 \nL 212.149062 238.841146 \nL 206.213587 238.841146 \nz\n\" style=\"fill:#4c72b0;opacity:0.4;\"/>\n   </g>\n   <g id=\"patch_28\">\n    <path clip-path=\"url(#pf3b99d5a83)\" d=\"M 212.149062 239.758125 \nL 218.084538 239.758125 \nL 218.084538 238.890667 \nL 212.149062 238.890667 \nz\n\" style=\"fill:#4c72b0;opacity:0.4;\"/>\n   </g>\n   <g id=\"patch_29\">\n    <path clip-path=\"url(#pf3b99d5a83)\" d=\"M 218.084538 239.758125 \nL 224.020014 239.758125 \nL 224.020014 238.947017 \nL 218.084538 238.947017 \nz\n\" style=\"fill:#4c72b0;opacity:0.4;\"/>\n   </g>\n   <g id=\"patch_30\">\n    <path clip-path=\"url(#pf3b99d5a83)\" d=\"M 224.020014 239.758125 \nL 229.95549 239.758125 \nL 229.95549 238.912865 \nL 224.020014 238.912865 \nz\n\" style=\"fill:#4c72b0;opacity:0.4;\"/>\n   </g>\n   <g id=\"patch_31\">\n    <path clip-path=\"url(#pf3b99d5a83)\" d=\"M 229.95549 239.758125 \nL 235.890966 239.758125 \nL 235.890966 239.146806 \nL 229.95549 239.146806 \nz\n\" style=\"fill:#4c72b0;opacity:0.4;\"/>\n   </g>\n   <g id=\"patch_32\">\n    <path clip-path=\"url(#pf3b99d5a83)\" d=\"M 235.890966 239.758125 \nL 241.826442 239.758125 \nL 241.826442 239.220232 \nL 235.890966 239.220232 \nz\n\" style=\"fill:#4c72b0;opacity:0.4;\"/>\n   </g>\n   <g id=\"patch_33\">\n    <path clip-path=\"url(#pf3b99d5a83)\" d=\"M 241.826442 239.758125 \nL 247.761918 239.758125 \nL 247.761918 239.242431 \nL 241.826442 239.242431 \nz\n\" style=\"fill:#4c72b0;opacity:0.4;\"/>\n   </g>\n   <g id=\"patch_34\">\n    <path clip-path=\"url(#pf3b99d5a83)\" d=\"M 247.761918 239.758125 \nL 253.697394 239.758125 \nL 253.697394 239.285121 \nL 247.761918 239.285121 \nz\n\" style=\"fill:#4c72b0;opacity:0.4;\"/>\n   </g>\n   <g id=\"patch_35\">\n    <path clip-path=\"url(#pf3b99d5a83)\" d=\"M 253.697394 239.758125 \nL 259.63287 239.758125 \nL 259.63287 239.315858 \nL 253.697394 239.315858 \nz\n\" style=\"fill:#4c72b0;opacity:0.4;\"/>\n   </g>\n   <g id=\"patch_36\">\n    <path clip-path=\"url(#pf3b99d5a83)\" d=\"M 259.63287 239.758125 \nL 265.568346 239.758125 \nL 265.568346 239.414898 \nL 259.63287 239.414898 \nz\n\" style=\"fill:#4c72b0;opacity:0.4;\"/>\n   </g>\n   <g id=\"patch_37\">\n    <path clip-path=\"url(#pf3b99d5a83)\" d=\"M 265.568346 239.758125 \nL 271.503822 239.758125 \nL 271.503822 239.426851 \nL 265.568346 239.426851 \nz\n\" style=\"fill:#4c72b0;opacity:0.4;\"/>\n   </g>\n   <g id=\"patch_38\">\n    <path clip-path=\"url(#pf3b99d5a83)\" d=\"M 271.503822 239.758125 \nL 277.439298 239.758125 \nL 277.439298 239.401238 \nL 271.503822 239.401238 \nz\n\" style=\"fill:#4c72b0;opacity:0.4;\"/>\n   </g>\n   <g id=\"patch_39\">\n    <path clip-path=\"url(#pf3b99d5a83)\" d=\"M 277.439298 239.758125 \nL 283.374774 239.758125 \nL 283.374774 239.454173 \nL 277.439298 239.454173 \nz\n\" style=\"fill:#4c72b0;opacity:0.4;\"/>\n   </g>\n   <g id=\"patch_40\">\n    <path clip-path=\"url(#pf3b99d5a83)\" d=\"M 283.374774 239.758125 \nL 289.31025 239.758125 \nL 289.31025 239.438805 \nL 283.374774 239.438805 \nz\n\" style=\"fill:#4c72b0;opacity:0.4;\"/>\n   </g>\n   <g id=\"patch_41\">\n    <path clip-path=\"url(#pf3b99d5a83)\" d=\"M 289.31025 239.758125 \nL 295.245726 239.758125 \nL 295.245726 239.500278 \nL 289.31025 239.500278 \nz\n\" style=\"fill:#4c72b0;opacity:0.4;\"/>\n   </g>\n   <g id=\"patch_42\">\n    <path clip-path=\"url(#pf3b99d5a83)\" d=\"M 295.245726 239.758125 \nL 301.181201 239.758125 \nL 301.181201 239.493448 \nL 295.245726 239.493448 \nz\n\" style=\"fill:#4c72b0;opacity:0.4;\"/>\n   </g>\n   <g id=\"patch_43\">\n    <path clip-path=\"url(#pf3b99d5a83)\" d=\"M 301.181201 239.758125 \nL 307.116677 239.758125 \nL 307.116677 239.548091 \nL 301.181201 239.548091 \nz\n\" style=\"fill:#4c72b0;opacity:0.4;\"/>\n   </g>\n   <g id=\"patch_44\">\n    <path clip-path=\"url(#pf3b99d5a83)\" d=\"M 307.116677 239.758125 \nL 313.052153 239.758125 \nL 313.052153 239.553214 \nL 307.116677 239.553214 \nz\n\" style=\"fill:#4c72b0;opacity:0.4;\"/>\n   </g>\n   <g id=\"patch_45\">\n    <path clip-path=\"url(#pf3b99d5a83)\" d=\"M 313.052153 239.758125 \nL 318.987629 239.758125 \nL 318.987629 239.566874 \nL 313.052153 239.566874 \nz\n\" style=\"fill:#4c72b0;opacity:0.4;\"/>\n   </g>\n   <g id=\"patch_46\">\n    <path clip-path=\"url(#pf3b99d5a83)\" d=\"M 318.987629 239.758125 \nL 324.923105 239.758125 \nL 324.923105 239.589073 \nL 318.987629 239.589073 \nz\n\" style=\"fill:#4c72b0;opacity:0.4;\"/>\n   </g>\n   <g id=\"patch_47\">\n    <path clip-path=\"url(#pf3b99d5a83)\" d=\"M 324.923105 239.758125 \nL 330.858581 239.758125 \nL 330.858581 239.589073 \nL 324.923105 239.589073 \nz\n\" style=\"fill:#4c72b0;opacity:0.4;\"/>\n   </g>\n   <g id=\"patch_48\">\n    <path clip-path=\"url(#pf3b99d5a83)\" d=\"M 330.858581 239.758125 \nL 336.794057 239.758125 \nL 336.794057 239.587365 \nL 330.858581 239.587365 \nz\n\" style=\"fill:#4c72b0;opacity:0.4;\"/>\n   </g>\n   <g id=\"patch_49\">\n    <path clip-path=\"url(#pf3b99d5a83)\" d=\"M 336.794057 239.758125 \nL 342.729533 239.758125 \nL 342.729533 239.624933 \nL 336.794057 239.624933 \nz\n\" style=\"fill:#4c72b0;opacity:0.4;\"/>\n   </g>\n   <g id=\"patch_50\">\n    <path clip-path=\"url(#pf3b99d5a83)\" d=\"M 342.729533 239.758125 \nL 348.665009 239.758125 \nL 348.665009 239.655669 \nL 342.729533 239.655669 \nz\n\" style=\"fill:#4c72b0;opacity:0.4;\"/>\n   </g>\n   <g id=\"patch_51\">\n    <path clip-path=\"url(#pf3b99d5a83)\" d=\"M 348.665009 239.758125 \nL 354.600485 239.758125 \nL 354.600485 239.628348 \nL 348.665009 239.628348 \nz\n\" style=\"fill:#4c72b0;opacity:0.4;\"/>\n   </g>\n   <g id=\"patch_52\">\n    <path clip-path=\"url(#pf3b99d5a83)\" d=\"M 354.600485 239.758125 \nL 360.535961 239.758125 \nL 360.535961 239.631763 \nL 354.600485 239.631763 \nz\n\" style=\"fill:#4c72b0;opacity:0.4;\"/>\n   </g>\n   <g id=\"line2d_35\">\n    <path clip-path=\"url(#pf3b99d5a83)\" d=\"M 59.967244 239.758125 \nL 62.363808 235.748206 \nL 64.760372 176.990905 \nL 67.156937 65.192195 \nL 69.553501 32.672411 \nL 71.950065 45.332258 \nL 74.346629 80.841389 \nL 76.743193 107.619453 \nL 79.139757 132.531224 \nL 81.536321 148.433407 \nL 83.932885 157.305302 \nL 86.329449 163.745478 \nL 88.726013 172.344673 \nL 91.122577 177.653644 \nL 93.519141 182.233802 \nL 95.915705 186.488656 \nL 103.105398 209.85169 \nL 105.501962 215.057352 \nL 107.898526 218.700988 \nL 110.29509 221.508747 \nL 112.691654 223.351576 \nL 115.088218 224.972692 \nL 117.484782 226.930597 \nL 119.881346 228.216369 \nL 122.27791 228.848823 \nL 124.674474 229.598302 \nL 127.071038 230.868669 \nL 129.467602 231.374657 \nL 131.864166 232.066344 \nL 136.657294 234.130742 \nL 139.053858 234.727095 \nL 141.450423 235.152384 \nL 146.243551 235.592773 \nL 148.640115 236.042234 \nL 151.036679 236.30102 \nL 153.433243 236.681708 \nL 155.829807 236.591694 \nL 160.622935 237.140343 \nL 165.416063 237.164356 \nL 167.812627 237.32901 \nL 170.209191 237.342027 \nL 172.605755 237.671124 \nL 175.002319 237.830716 \nL 177.398884 237.82299 \nL 182.192012 238.030737 \nL 191.778268 238.341069 \nL 196.571396 238.439923 \nL 201.364524 238.657662 \nL 203.761088 238.827379 \nL 225.330165 238.871718 \nL 227.726729 239.038899 \nL 230.123293 238.994817 \nL 232.519857 239.15993 \nL 251.69237 239.334655 \nL 254.088934 239.267418 \nL 256.485498 239.361958 \nL 258.882062 239.318797 \nL 263.67519 239.414669 \nL 270.864882 239.424345 \nL 282.847702 239.440193 \nL 299.623651 239.517242 \nL 302.020215 239.475225 \nL 304.416779 239.589752 \nL 318.796163 239.577073 \nL 325.985856 239.560078 \nL 328.38242 239.638146 \nL 330.778984 239.53321 \nL 333.175548 239.641962 \nL 335.572112 239.530116 \nL 337.968676 239.660199 \nL 340.36524 239.570353 \nL 342.761804 239.684523 \nL 345.158368 239.592878 \nL 347.554932 239.748581 \nL 349.951496 239.559287 \nL 352.34806 239.700394 \nL 354.744624 239.546213 \nL 357.141188 239.74472 \nL 359.537753 239.517773 \nL 361.934317 239.758125 \nL 364.330881 239.574409 \nL 364.330881 239.574409 \n\" style=\"fill:none;stroke:#4c72b0;stroke-linecap:round;stroke-width:1.75;\"/>\n   </g>\n   <g id=\"patch_53\">\n    <path d=\"M 44.749063 239.758125 \nL 44.749063 22.318125 \n\" style=\"fill:none;\"/>\n   </g>\n   <g id=\"patch_54\">\n    <path d=\"M 379.549062 239.758125 \nL 379.549062 22.318125 \n\" style=\"fill:none;\"/>\n   </g>\n   <g id=\"patch_55\">\n    <path d=\"M 44.749063 239.758125 \nL 379.549062 239.758125 \n\" style=\"fill:none;\"/>\n   </g>\n   <g id=\"patch_56\">\n    <path d=\"M 44.749063 22.318125 \nL 379.549062 22.318125 \n\" style=\"fill:none;\"/>\n   </g>\n   <g id=\"text_20\">\n    <!-- Ride durations -->\n    <g style=\"fill:#262626;\" transform=\"translate(168.531875 16.318125)scale(0.12 -0.12)\">\n     <use xlink:href=\"#DejaVuSans-52\"/>\n     <use x=\"69.482422\" xlink:href=\"#DejaVuSans-69\"/>\n     <use x=\"97.265625\" xlink:href=\"#DejaVuSans-64\"/>\n     <use x=\"160.742188\" xlink:href=\"#DejaVuSans-65\"/>\n     <use x=\"222.265625\" xlink:href=\"#DejaVuSans-20\"/>\n     <use x=\"254.052734\" xlink:href=\"#DejaVuSans-64\"/>\n     <use x=\"317.529297\" xlink:href=\"#DejaVuSans-75\"/>\n     <use x=\"380.908203\" xlink:href=\"#DejaVuSans-72\"/>\n     <use x=\"422.021484\" xlink:href=\"#DejaVuSans-61\"/>\n     <use x=\"483.300781\" xlink:href=\"#DejaVuSans-74\"/>\n     <use x=\"522.509766\" xlink:href=\"#DejaVuSans-69\"/>\n     <use x=\"550.292969\" xlink:href=\"#DejaVuSans-6f\"/>\n     <use x=\"611.474609\" xlink:href=\"#DejaVuSans-6e\"/>\n     <use x=\"674.853516\" xlink:href=\"#DejaVuSans-73\"/>\n    </g>\n   </g>\n  </g>\n </g>\n <defs>\n  <clipPath id=\"pf3b99d5a83\">\n   <rect height=\"217.44\" width=\"334.8\" x=\"44.749063\" y=\"22.318125\"/>\n  </clipPath>\n </defs>\n</svg>\n"
          },
          "metadata": {}
        }
      ]
    },
    {
      "metadata": {
        "_uuid": "74a033ca4c3b0eb8902f533366a0757dac520ea4"
      },
      "cell_type": "markdown",
      "source": "<a id='weather'></a>\n## Weather\n\nHow does riding activity depend on the weather?\n -Temperature, cloudy, and rain\n \n look at how it effects both \n - number of rides/day, and\n - ride durations\n \n should download historical weather data for Minneapolis, and ADD IT TO THE NICERIDE DATASET\n here are some possibilities:\n daily: https://www.climate.gov/maps-data/dataset/past-weather-zip-code-data-table\n "
    },
    {
      "metadata": {
        "_uuid": "74edddf0a9d92e4becdeb367ae8901ebaf1e1817"
      },
      "cell_type": "markdown",
      "source": "<a id='dependence-on-season'></a> \n ## Traffic dependence on season\n \n \"now that we have the weather data, we can get back to our question of why people ride less in the beginning/end of a season\"\nIs there a seasonal dependence in riding activity independent of the weather?\n- Look at residuals over season after regressing out weather\n- The idea is: do people just not wanna ride bikes as much in the fall even if it's nice out?\n- And talk about how the idea is to in a later post see if it would be profitable to keep their season going longer\n\nBTW i'd predict that riding activity, after controlling for weather, actually ramps up over the course of a season.\nwhich would mean it wouldn't be profitable to open *earlier* but it **would** be profitable to extend the riding season further into the fall."
    },
    {
      "metadata": {
        "_uuid": "0a644b1f6613d411fa305b83927389ece2ec5734"
      },
      "cell_type": "markdown",
      "source": "<a id='memberships'></a>\n## Memberships\n\nBasic hist of memberships\n\nIs there a difference in the bike patterns between rides by people with a membership vs people without one?\n\nDifference in durations? times of day? Day of week? Season?\n\nTrip patterns?\n- Compute the transition (or trip) probability matrix for members and separately for non members\n- Does it significantly differ?\n- Or could bootstrap to get distributions for each trip, compute roc to get prob members take that trip more often (don't bother with significance testing unless there's one or two you are really interested in...)\n- Then find the M best stations to put ads at (the M stations which maximize the probability that a person with a riding pattern similar to people with memberships will see it)\n- Mention that this assumes that people who have bike patterns that are similar to those people with memberships are more likely to actually get memberships. And say that in fact what you would really want to do is do a/b testing or Bandit algorithm.\n"
    }
  ],
  "metadata": {
    "kernelspec": {
      "display_name": "Python 3",
      "language": "python",
      "name": "python3"
    },
    "language_info": {
      "name": "python",
      "version": "3.6.6",
      "mimetype": "text/x-python",
      "codemirror_mode": {
        "name": "ipython",
        "version": 3
      },
      "pygments_lexer": "ipython3",
      "nbconvert_exporter": "python",
      "file_extension": ".py"
    }
  },
  "nbformat": 4,
  "nbformat_minor": 1
}