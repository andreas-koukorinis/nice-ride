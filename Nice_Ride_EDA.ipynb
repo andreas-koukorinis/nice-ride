{
  "cells": [
    {
      "metadata": {
        "_uuid": "8f2839f25d086af736a60e9eeb907d3b93b6e0e5",
        "_cell_guid": "b1076dfc-b9ad-4769-8c92-a6c4dae69d19",
        "trusted": true,
        "collapsed": true
      },
      "cell_type": "markdown",
      "source": "# Nice Ride MN Exploratory Data Analysis"
    },
    {
      "metadata": {
        "_uuid": "443ac9e9978e2d62860a75057dd79ad7dd0ce0ae"
      },
      "cell_type": "markdown",
      "source": "TODO: description / intro...\n\nNice Ride MN shares their [historical system data](https://www.niceridemn.org/data/)\n\n## Outline\n- [Data Loading and Cleaning](#loading-and-cleaning)\n- [Station Locations](#station-locations)\n- [Number of Bike Docks per Station](#number-of-docks)\n- [Station Demand](#station-demand)\n    - [Difference in demand](#difference-in-demand)\n    - [Difference in demand over time](#demand-over-time)\n    - [Cumulative difference in demand](#cumulative-difference)\n    - [Optimal initial number of bikes](#optimal-initial-number)\n    - [Demand Range](#demand-range)\n- [Flow](#flow)\n- [Memberships](#memberships)\n- [Ride Season](#ride-season)\n- [Ride durations](#ride-durations)\n- [Weather](#weather)\n- [Traffic dependence on season](#dependence-on-season)"
    },
    {
      "metadata": {
        "_cell_guid": "79c7e3d0-c299-4dcb-8224-4455121ee9b0",
        "_uuid": "d629ff2d2480ee46fbb7e2d37f6b5fab8052498a",
        "trusted": true,
        "collapsed": true
      },
      "cell_type": "code",
      "source": "# Packages\nimport numpy as np\nimport pandas as pd\nimport matplotlib.pyplot as plt\nimport seaborn as sns\n\n# Matplotlib settings\n%matplotlib inline\n%config InlineBackend.figure_format = 'svg'\nsns.set()\n\n# Bokeh settings\nfrom bokeh.plotting import figure, show\nfrom bokeh.io import output_notebook\nfrom bokeh.models import ColumnDataSource, Circle, HoverTool, ColorBar, LinearColorMapper, CustomJS, Slider\nfrom bokeh.palettes import Viridis256, brewer\nfrom bokeh.tile_providers import CARTODBPOSITRON_RETINA\nfrom bokeh.models.widgets import Panel, Tabs\nfrom bokeh.layouts import column\nfig_height = 500\nfig_width = 800\noutput_notebook()",
      "execution_count": null,
      "outputs": []
    },
    {
      "metadata": {
        "_uuid": "5895ec2234a282986040b501b1e2d37f938d2620"
      },
      "cell_type": "markdown",
      "source": "<a id='loading-and-cleaning'></a>\n## Data Loading and Cleaning\n\nFirst, let's load the data and take a look at the data to see if it needs any cleaning."
    },
    {
      "metadata": {
        "trusted": true,
        "_uuid": "b281075e5c141f7799ec6bbba46618fc8b32a88b",
        "collapsed": true
      },
      "cell_type": "code",
      "source": "# Load data\nstations = pd.read_csv('../input/Nice_Ride_2017_Station_Locations.csv')\ntrips = pd.read_csv('../input/Nice_ride_trip_history_2017_season.csv')",
      "execution_count": null,
      "outputs": []
    },
    {
      "metadata": {
        "trusted": true,
        "_uuid": "5a288ab07e21f026613e1643f1a51a58b2101779",
        "collapsed": true
      },
      "cell_type": "code",
      "source": "# Show some of the stations data\nstations.sample(n=5)",
      "execution_count": null,
      "outputs": []
    },
    {
      "metadata": {
        "trusted": true,
        "_uuid": "fe2f3ca967dc2c68827ae1ba8ee3d0f6535f02f2",
        "collapsed": true
      },
      "cell_type": "code",
      "source": "# Print info about each column\nfor col in stations:\n    print('\\n',col,'\\nNulls:',stations[col].isnull().sum(),'\\n',stations[col].describe())",
      "execution_count": null,
      "outputs": []
    },
    {
      "metadata": {
        "_uuid": "7630cca1eccb7936506fa831eedf8f8586a877b9"
      },
      "cell_type": "markdown",
      "source": "The stations dataset looks pretty clean - no missing values, and the latitude, longitude, and number of docks loaded as expected.  The only anomaly was that the last station ID number was a string ('NRHQ'), while all the others were integers.  But that's fine - pandas will just treat that column as a categorical object, which is what we want anyway.  \n\nWhat about the trip data?"
    },
    {
      "metadata": {
        "trusted": true,
        "_uuid": "c60ce55d79d6d0c09e0fc12011263ca3f16cb73c",
        "collapsed": true
      },
      "cell_type": "code",
      "source": "# Show some of the trip data\ntrips.sample(n=5)",
      "execution_count": null,
      "outputs": []
    },
    {
      "metadata": {
        "trusted": true,
        "_uuid": "28b76f59811545c6418a6ef170082a3fe95d96c2",
        "collapsed": true
      },
      "cell_type": "code",
      "source": "# Print info about each column\nfor col in trips:\n    print('\\n',col,'\\nNulls:',trips[col].isnull().sum(),'\\n',trips[col].describe())",
      "execution_count": null,
      "outputs": []
    },
    {
      "metadata": {
        "_uuid": "7a972a9ec8f989360de0e68f52ff682ec486802e"
      },
      "cell_type": "markdown",
      "source": "The trips dataset looks pretty clean too.  The only anomalies I noticed were that there was a weird third Account type, and the dates were loaded as objects (instead of dates).\n\nThe possible types of accounts are \"Member\", \"Casual\" (which presumably just means non-member), and \"Inconnu\" (which I assume represents [\"unknown\"](https://en.wiktionary.org/wiki/inconnu#French) and not [the fish](https://en.wiktionary.org/wiki/inconnu#English)!).  But there were only two entries w/ an account type of \"Inconnu\", so we'll just set those entries to be \"Casual\" so that we only have members and non-members."
    },
    {
      "metadata": {
        "trusted": true,
        "_uuid": "329277a7c1871c0d657ffc418b1d8e6530e25919",
        "collapsed": true
      },
      "cell_type": "code",
      "source": "# Plot types of accounts in the trips dataset\nax = sns.countplot(x='Account type', data=trips)\nplt.title('Account types')\nfor p in ax.patches:\n    x = p.get_bbox().get_points()[:,0]\n    y = p.get_bbox().get_points()[1,1]\n    ax.annotate('%d' % (y), (x.mean(), y), \n                ha='center', va='bottom')\nplt.show()",
      "execution_count": null,
      "outputs": []
    },
    {
      "metadata": {
        "trusted": true,
        "collapsed": true,
        "_uuid": "ac59ddd256005c09b7775fc471f757c6f3683fed"
      },
      "cell_type": "code",
      "source": "# Set \"Inconnu\" memberships to \"Casual\"\ntrips.loc[trips['Account type']=='Inconnu', 'Account type'] = 'Casual'",
      "execution_count": null,
      "outputs": []
    },
    {
      "metadata": {
        "_uuid": "5024443910180a4d45085b7890d14a3c11b98415"
      },
      "cell_type": "markdown",
      "source": "Another small probem with the trips datset was that the trip start and end dates were loaded as generic objects, instead of dates.  Since we'll want to work with them as date/times, we'll convert them to the datetime datatype:"
    },
    {
      "metadata": {
        "trusted": true,
        "collapsed": true,
        "_uuid": "b5477460b92b61a4084be96d623f2cdef4a33673"
      },
      "cell_type": "code",
      "source": "# Convert start and end times to datetime\nfor col in ['End date', 'Start date']:\n    trips[col] = pd.to_datetime(trips[col])",
      "execution_count": null,
      "outputs": []
    },
    {
      "metadata": {
        "_uuid": "45b60ea26eae5fc5365a958c9bcd953664509175"
      },
      "cell_type": "markdown",
      "source": "<a id='station-locations'></a>\n## Station Locations\n\nLet's plot the Nice Ride station locations on a map.  We'll use [Bokeh](https://bokeh.pydata.org/en/latest/) to display a map of the station locations.  To plot them on a map, however, we'll first have to transform the station locations from latitude+longitude coordinates to [Mercator (UTM) coordinates](https://en.wikipedia.org/wiki/Universal_Transverse_Mercator_coordinate_system), and make a function which generates a plot of points on the map."
    },
    {
      "metadata": {
        "trusted": true,
        "_uuid": "338e5e6febc47c492a0807a6a89b25a40f7a6762",
        "collapsed": true
      },
      "cell_type": "code",
      "source": "def lat_to_mercY(lat):\n    \"\"\"Convert Latitude to Mercator Y\"\"\"\n    return np.log(np.tan(np.pi/4+np.radians(lat)/2))*6378137.0\n\ndef lon_to_mercX(lon):\n    \"\"\"Convert Longitude to Mercator X\"\"\"\n    return np.radians(lon)*6378137.0\n\ndef MapPoints(lat, lon, size=10, color=\"green\", alpha=0.8, \n              padding=0.1, tooltips=None, title=None, \n              width=None, height=None, clims=None,\n              palette=Viridis256, symmetric_color=False):\n    \"\"\"Bokeh plot of points overlayed on a map\"\"\"\n    \n    # Convert lat,lon to UTM coordinates\n    X = lon_to_mercX(lon)\n    Y = lat_to_mercY(lat)\n    \n    # Set marker sizes\n    if type(size) is int or type(size) is float:\n        size = size*np.ones(len(lat))\n    \n    # Data source table for Bokeh\n    source = ColumnDataSource(data=dict(\n        X = X,\n        Y = Y,\n        size = size\n    ))\n    \n    # Color limits\n    if type(color) is not str:\n        if clims is None:\n            if symmetric_color:\n                cmin = -max(abs(color))\n                cmax = max(abs(color))\n            else:\n                cmin = min(color)\n                cmax = max(color)\n        else:\n            cmin = clims[0]\n            cmax = clims[1]\n            \n    # Set marker colors\n    if type(color) is not str: #map colors to a colormap\n        source.add(color, 'color') #add to source table\n        mapper = LinearColorMapper(palette=palette, \n                                   low=cmin, \n                                   high=cmax)\n        color = {'field': 'color', 'transform': mapper}\n            \n    # Plot the points\n    p = figure(tools=\"pan,wheel_zoom,reset,hover,save\", \n               active_scroll=\"wheel_zoom\")\n    p.add_tile(CARTODBPOSITRON_RETINA) #set background map\n    p.circle('X', 'Y', source=source, size='size', \n             fill_color=color, fill_alpha=alpha, \n             line_color=None) #plot each station\n    p.axis.visible = False\n    \n    # Colorbar\n    if type(color) is not str:\n        color_bar = ColorBar(color_mapper=mapper, \n                             location=(0, 0))\n        p.add_layout(color_bar, 'right')\n        \n    # Tool tips\n    if tooltips is not None:\n        for T in tooltips: #add to Bokeh data source\n            source.add(T[1].values.tolist(), name=T[0])\n        hover = p.select_one(HoverTool) #set hover values\n        hover.tooltips=[(T[0], \"@\"+T[0]) for T in tooltips]\n        \n    # Title\n    if title is not None:\n        p.title.text = title\n        \n    # Figure height\n    if height is not None:\n        p.plot_height = height\n        \n    # Figure width\n    if width is not None:\n        p.plot_width = width\n    \n    return p, source",
      "execution_count": null,
      "outputs": []
    },
    {
      "metadata": {
        "trusted": true,
        "_uuid": "0d2bd5e082f7343758eb3b02b4b78cce43065029",
        "collapsed": true
      },
      "cell_type": "code",
      "source": "# On hover, show Station name\ntooltips = [(\"Station\", stations['Name'])]\n\n# Plot the stations\np, _ = MapPoints(stations.Latitude, stations.Longitude, \n                 title=\"Nice Ride Station Locations\",\n                 tooltips=tooltips,\n                 height=fig_height, width=fig_width)\n\nshow(p)",
      "execution_count": null,
      "outputs": []
    },
    {
      "metadata": {
        "_uuid": "fb1e5932717cfc2aee940a4781686a13cdc22636"
      },
      "cell_type": "markdown",
      "source": "Looks like most of the stations are scattered around Minneapolis, but there's also a cluster in downtown St. Paul, and several stations along University Ave and Grand Ave, which connect Minneapolis and St. Paul."
    },
    {
      "metadata": {
        "_uuid": "fe98719536aff1cea32d0757dc2bd3e56140d5d4"
      },
      "cell_type": "markdown",
      "source": "<a id='number-of-docks'></a>\n## Number of Bike Docks per Station\n\nEach station has a certain number of docks which people can rent bikes from or return them to at the end of their rentals.  How many docks do Nice Ride stations usually have?  We can plot a histogram of the number of docks at each station to get an idea of that distribution."
    },
    {
      "metadata": {
        "trusted": true,
        "_uuid": "ffb97a11c7470458a6ca33355b0bf72a5068d7e5",
        "collapsed": true
      },
      "cell_type": "code",
      "source": "# Plot histogram of # docks at each station \nplt.figure()\nplt.hist(stations['Total docks'], \n         bins=np.arange(0.5, 42.5, 1.))\nplt.ylabel('Number of Stations')\nplt.xlabel('Number of Docks')\nplt.title('Number of Docks Distribution')\nplt.show()",
      "execution_count": null,
      "outputs": []
    },
    {
      "metadata": {
        "_uuid": "62ed83ea7df25afa4f5348d48d1d8e2f86be9c36"
      },
      "cell_type": "markdown",
      "source": "It looks like 15 is the standard station size, but with additional 4-dock add-ons (since there's also a bunch of stations with 19 docks, then less with 23, etc).  If the docks are most available/cheapest with 15-plus-increments-of-4 docks, then we'll have to take that into consideration later on, when we try to optimize the number of docks at each station.\n\nWhich stations have what number of docks, and how are those docks distributed geographically?  We can again plot the station locations, but now we'll also use the color and size of the station marker to indicate how many docks are at that station."
    },
    {
      "metadata": {
        "trusted": true,
        "_uuid": "877cbef0ac71e005d0206508bfecfdf237810745",
        "collapsed": true
      },
      "cell_type": "code",
      "source": "# On hover, show Station name and the number of docks\ntooltips = [(\"Station\", stations['Name']), \n            (\"Docks\", stations['Total docks'])]\n\n# Plot the stations\np, _ = MapPoints(stations.Latitude, stations.Longitude, \n                 tooltips=tooltips, color=stations['Total docks'],\n                 size=4*np.sqrt(stations['Total docks']/np.pi),\n                 title=\"Number of Docks at each Station\",\n                 height=fig_height, width=fig_width)\n\nshow(p)",
      "execution_count": null,
      "outputs": []
    },
    {
      "metadata": {
        "_uuid": "32f46d4a7702d46678e10d5bc4833968db64f6f6"
      },
      "cell_type": "markdown",
      "source": "<a id='station-demand'></a>\n## Station Demand\n\nLet's also take a look at the demand at each station.  What I mean by that is the number of bikes which users take from each station and leave at each station.  By grouping the trips dataset by the station name and counting the number of trips in each group, we can find how many trips have left from or ended at each station."
    },
    {
      "metadata": {
        "trusted": true,
        "_uuid": "430efd20ef7540210e61150df818e70517c876dc",
        "collapsed": true
      },
      "cell_type": "code",
      "source": "# Count incoming and outgoing trips for each station\ndemand_df = pd.DataFrame({'Outbound trips': trips.groupby('Start station').size(),\n                          'Inbound trips': trips.groupby('End station').size()\n                      })\ndemand_df['Name'] = demand_df.index\nsdf = stations.merge(demand_df, on='Name')",
      "execution_count": null,
      "outputs": []
    },
    {
      "metadata": {
        "_uuid": "24443db581516d7c269a35f32638f86c9bf64874"
      },
      "cell_type": "markdown",
      "source": "How many trips are started from each station?  We'll take a look at the distribution (as a histogram) and then plot the number of trips started from each station on a map."
    },
    {
      "metadata": {
        "trusted": true,
        "_uuid": "e7cde53540ae0d843833fc4979bd73b66067c4d5",
        "collapsed": true
      },
      "cell_type": "code",
      "source": "# Plot num trips started from each station \nplt.figure()\nplt.hist(sdf['Outbound trips'], bins=20)\nplt.ylabel('Number of Stations')\nplt.xlabel('Number of outbound rentals')\nplt.title('Outbound trip distribution')\nplt.show()",
      "execution_count": null,
      "outputs": []
    },
    {
      "metadata": {
        "_uuid": "c1a80bdfe034933a13f0b4822be2bfac5678b7f9"
      },
      "cell_type": "markdown",
      "source": "And the number of trips which *end* at each station?"
    },
    {
      "metadata": {
        "trusted": true,
        "_uuid": "38584eaeb55410bed26d529e99964f929b6a8c69",
        "collapsed": true
      },
      "cell_type": "code",
      "source": "# Plot num trips started from each station \nplt.figure()\nplt.hist(sdf['Inbound trips'], bins=20)\nplt.ylabel('Number of Stations')\nplt.xlabel('Number of inbound rentals')\nplt.title('Inbound trip distribution')\nplt.show()",
      "execution_count": null,
      "outputs": []
    },
    {
      "metadata": {
        "_uuid": "c02b15933ec15e4ab27e5142e958b3d77e194348"
      },
      "cell_type": "markdown",
      "source": "Nice Ride MN has to re-distribute bikes from stations which have extra bikes to stations which don't have enough.  Stations which have more rides ending at that station than starting there will end up with extra bikes, and Nice Ride will have to re-distribute those extra bikes to the stations which are more empty!  What does this distribution look like? That is, which stations have more rides ending at that station than starting there, or vice versa? "
    },
    {
      "metadata": {
        "trusted": true,
        "_uuid": "51f84455a4a41b3e2067bd4c17c99dfc46f09a86",
        "collapsed": true
      },
      "cell_type": "code",
      "source": "# Compute the DIFFERENCE between #incoming and #outgoing trips\nsdf['demand_diff'] = sdf['Inbound trips']-sdf['Outbound trips']\n\n# Sanity / valid data check\nprint('Number of outbound trips: %d' % (sdf['Outbound trips'].sum()))\nprint('Number of inbound trips: %d' % (sdf['Inbound trips'].sum()))\n\n# Plot histogram of difference in demand\nplt.figure()\nplt.hist(sdf['demand_diff'], bins=20)\nplt.ylabel('Number of Stations')\nplt.xlabel('Num Inbound - Num Outbound trips')\nplt.title('Distribution of Demand Difference')\nplt.show()",
      "execution_count": null,
      "outputs": []
    },
    {
      "metadata": {
        "_uuid": "b1cab65c37778ce744134e07507a8fe1812d6983"
      },
      "cell_type": "markdown",
      "source": "Luckily most stations have about as many rides ending there as starting from that station.  However, there are definitely a few stations which are imbalanced!  That is, there are some stations which have more rides which end there than start there, or vice-versa.  But which ones are those?\n\nWe can plot these distributions on a map to see which are the imbalanced stations.  We'll use Bokeh to plot the number of outbound trips, inbound trips, and the difference in demand in three separate tabs.  The color and area of the circles represent the vaue (number of outbound trips, inbound trips, or the difference) in the corresponding tab.  For the \"Difference\", the size of the circle represents the *absolute* difference (so we can see which stations are the most imbalanced, and the color tells us in which direction they are imbalanced)."
    },
    {
      "metadata": {
        "trusted": true,
        "_uuid": "66afee841dfa7fb32b6a5e1f51bf8b99a5ce4e06",
        "collapsed": true
      },
      "cell_type": "code",
      "source": "# On hover, show station info\ntooltips = [(\"Station\", sdf['Name']), #show on hover\n            (\"Docks\", sdf['Total docks']), \n            (\"Num_Outbound\", sdf['Outbound trips']),\n            (\"Num_Inbound\", sdf['Inbound trips']),\n            (\"Inbound_minus_Outbound\", sdf['demand_diff'])]\n\n# Outbound trips \np1, _ = MapPoints(sdf.Latitude, sdf.Longitude, \n                  tooltips=tooltips, color=sdf['Outbound trips'],\n                  size=0.3*np.sqrt(sdf['Outbound trips']/np.pi),\n                  title=\"Number of Outbound Trips\",\n                  height=fig_height, width=fig_width)\ntab1 = Panel(child=p1, title=\"Outbound\")\n\n# Inbound trips\np2, _ = MapPoints(sdf.Latitude, sdf.Longitude, \n                  tooltips=tooltips, color=sdf['Inbound trips'],\n                  size=0.3*np.sqrt(sdf['Inbound trips']/np.pi),\n                  title=\"Number of Inbound Trips\",\n                  height=fig_height, width=fig_width)\ntab2 = Panel(child=p2, title=\"Inbound\")\n\n# Difference in demand (Inbound - Outbound) trips\np3, _ = MapPoints(sdf.Latitude, sdf.Longitude, \n                  tooltips=tooltips, color=sdf['demand_diff'],\n                  size=1*np.sqrt(np.abs(sdf['demand_diff'])/np.pi),\n                  title=\"Inbound - Outbound Trips\",\n                  palette=brewer['Spectral'][11], #divergent palette\n                  symmetric_color=True, #centered @ 0\n                  height=fig_height, width=fig_width)\ntab3 = Panel(child=p3, title=\"Difference\")\n\nshow(Tabs(tabs=[tab1, tab2, tab3]))",
      "execution_count": null,
      "outputs": []
    },
    {
      "metadata": {
        "_uuid": "81fcab70ec6006cddc6182fff6f7238cfdc901ed"
      },
      "cell_type": "markdown",
      "source": "In the \"Difference\" tab, we can immediately identify some problem stations.  There are some stations at which far more people are ending their trips than starting them (e.g. the station at Lake St & Knox Ave, at the northeast corner of Bde Maka Ska, or the Minnehaha Park station).  There are also stations at which far more people are *starting* their trips than ending them (e.g. the stations at Coffman Union and Wiley Hall on the Univeristy of Minnesota campus).  But the majority of stations have about as many inbound as outbound rides (e.g. the two stations by Como Lake, which you can barely see on the differences map!).  \n\nPlotting the difference in demand by location also reveals an interesting rental flow pattern: it appears that, on average, more rides start from downtown Minneapolis or the U of M campus and go away from downtown.  Notice how there's a lot of large blue circles (stations with more outbound rides) clustered around downtown Minneapolis, but most of the large red circles (stations with more inbound rides) lie away from downtown, and tend to be \"destinations\" and parks (such as Minnehaha Park, Bde Maka Ska, Logan Park, and North Mississippi Regional Park)\n\n<a id='difference-in-demand'></a>\n### Difference in demand\n\nIs this difference in demand going to be a problem for Nice Ride?  Ideally, Nice Ride will want to have more docks at stations where there is large difference between the number of incoming and outgoing rides.  This is because if more rides are starting at a given station than ending there, the number of bikes at that station will decrease as the day goes on.  So, there needs to be enough docks at that station to hold enough bikes so the station isn't empty by the end of the day!  On the other hand, if more rides are *ending* at a station than are beginning there, all the docks at that station will fill up and people won't be able to end their rides there!  So those stations must have enough docks to absorb the amount of incoming traffic over the course of a day.\n\nStations which have a good balance of the number of rides coming in to the number of rides going out don't need quite as many docks - because about as many bikes are being taken from that station as are being left there.  Of course, there's also the issue of time - some stations may see different demand depending on the time of day, week, or season - but we'll get to that later. With a good match of the number of docks at each station to the difference between incoming and outgoing trips, Nice Ride won't have to spend as much time during prime riding hours re-distributing bikes from low-demand stations (with extra unused bikes) to high-demand stations (with not enough bikes!).  How well does this distribution of demand differences match up with the distribution of the number of docks at each station? "
    },
    {
      "metadata": {
        "trusted": true,
        "_uuid": "f581781cba8d84e64fd85674a04dcf4cd8d87744",
        "scrolled": false,
        "collapsed": true
      },
      "cell_type": "code",
      "source": "# Compute the ABSOLUTE difference between #incoming and #outgoing trips\nsdf['abs_diff'] = sdf['demand_diff'].abs()\n\n# Distributions of docks and absolute demand difference across stations\nsdf['Docks'] = sdf['Total docks']/sdf['Total docks'].sum()\nsdf['DemandDiff'] = sdf['abs_diff']/sdf['abs_diff'].sum()\n\n# Demand direction (more outgoing vs incoming)\nsdf['demand_dir'] = sdf['Name']\nsdf.loc[sdf['demand_diff']<0, 'demand_dir'] = 'More Outgoing'\nsdf.loc[sdf['demand_diff']>0, 'demand_dir'] = 'More Incoming'\nsdf.loc[sdf['demand_diff']==0, 'demand_dir'] = 'Balanced'\n\n# Tidy the data for seaborn\ntidified = (\n    sdf[['Name', 'Docks', 'DemandDiff']]\n       .set_index('Name')\n       .stack()\n       .reset_index()\n       .rename(columns={'level_1': 'Distribution', 0: 'Proportion'})\n)\n\n# Show the distributions\nplt.figure(figsize=(4.5, 35))\nstation_list = sdf.sort_values('DemandDiff', ascending=False)['Name'].tolist()\nsns.barplot(y='Name', x='Proportion', hue='Distribution', data=tidified,\n            order=station_list)\nplt.title('Proportion Docks vs Demand Difference')\nlocs, labels = plt.yticks()\nplt.yticks(locs, tuple([s[:15] for s in station_list]))\nplt.show()",
      "execution_count": null,
      "outputs": []
    },
    {
      "metadata": {
        "_uuid": "72ae2bc3b6d0c78c3a6189409a06a579df9ad9e9"
      },
      "cell_type": "markdown",
      "source": "There's not a really good match between the number of docks at each station and the overall difference in demand.  But don't go telling Nice Ride to re-allocate their docks just yet!  Keep in mind that we were looking at the *overall* difference in demand - but that difference in demand probably changes over time.  For example, some stations may have more outbound trips in the morning and more inbound trips in the evening, or vice-versa.\n\n<a id='demand-over-time'></a>\n### Difference in demand over time\n\nLet's look at how the demand at each station changes over time.  First we need to compute the number of inbound and outbound trips, and the difference, at each station by the hour:"
    },
    {
      "metadata": {
        "trusted": true,
        "_uuid": "28f343c6c652469cab79f7cc140b3ed6bcd278e1",
        "collapsed": true
      },
      "cell_type": "code",
      "source": "# Compute hourly trips at each station\ntrips['Start hour'] = trips['Start date'].dt.hour\ntrips['End hour'] = trips['End date'].dt.hour\noutbound = ( #num trips in and out by hour for each station\n    trips.groupby(['Start station', 'Start hour'])['Start date']\n         .count().to_frame().reset_index()\n         .rename(columns={\"Start date\": \"Outbound trips\", \n                          \"Start station\": \"Station name\",\n                          \"Start hour\": \"Hour\"})\n)\ninbound = ( #num trips in and out by hour for each station\n    trips.groupby(['End station', 'End hour'])['End date']\n         .count().to_frame().reset_index()\n         .rename(columns={\"End date\": \"Inbound trips\", \n                          \"End station\": \"Station name\",\n                          \"End hour\": \"Hour\"})\n)\ntrips_h = ( #num trips in and out by hour for each station\n    pd.merge(outbound, inbound, how='outer', \n             on=['Station name', 'Hour'])\n      .fillna(value=0)\n      .sort_values(['Station name', 'Hour'])\n)\ntrips_h['Difference'] = trips_h['Inbound trips'] - trips_h['Outbound trips']\n\n# Pivot to get Nstations-by-Nhours arrays for in, out, and diff\ntrips_hp = trips_h.pivot(index='Station name', columns='Hour').fillna(value=0)\n\n# Normalize by number of days in the season\nndays = (max(trips['Start date'])-min(trips['Start date'])).days\ntrips_hp = trips_hp/ndays",
      "execution_count": null,
      "outputs": []
    },
    {
      "metadata": {
        "_uuid": "86413b3a05fb18b58159f9c08fdc1e1010b5ed3e"
      },
      "cell_type": "markdown",
      "source": "Now we can see how the demand at each station changes over time.  For example, let's take a look at the busy downtown station at the Hennepin County Government Center."
    },
    {
      "metadata": {
        "trusted": true,
        "_uuid": "540de315e5ce687ff04a23a3e26e8f4d8c8084f8",
        "collapsed": true
      },
      "cell_type": "code",
      "source": "station_name = 'Hennepin County Government Center'\n\n# Plot demand at Hennepin County Government Center\nplt.figure()\nplt.subplot(2, 1, 1)\ninds = trips_hp['Outbound trips'].index==station_name\nplt.plot(trips_hp['Outbound trips'].loc[inds,:].values[0])\nplt.plot(trips_hp['Inbound trips'].loc[inds,:].values[0])\nplt.xticks(np.arange(0, 25, 6))\nplt.xlabel('Hour')\nplt.ylabel('Average\\nNumber of trips')\nplt.legend(['Outbound', 'Inbound'])\nplt.title('Trips at '+station_name)\nplt.show()\n\n# Plot difference in demand at Hennepin County Government Center\nplt.subplot(2, 1, 2)\ninds = trips_hp['Difference'].index==station_name\nplt.plot(trips_hp['Difference'].loc[inds,:].values[0], 'y')\nplt.fill_between(np.arange(24), 0, \n                 trips_hp['Difference'].loc[inds,:].values[0],\n                 color='yellow', alpha=0.2)\nplt.xticks(np.arange(0, 25, 6))\nplt.xlabel('Hour')\nplt.ylabel('Average Difference\\n(Inbound - Outbound)')\nplt.show()",
      "execution_count": null,
      "outputs": []
    },
    {
      "metadata": {
        "_uuid": "7ce940e98fac95ff19ee83ac2c6d763a627e88b8"
      },
      "cell_type": "markdown",
      "source": "This station sees a large volume of both inbound and outbound rentals over the course of a day.  But the balance between inbound and outbound trips isn't constant - it changes with time!  At around 8am, there are more people ending their rentals at the station, probably people who are commuting to work.  But at the end of the day, around 5p, people are usually *starting* their rentals from that station, probably for their commute home.\n\nWhat about a station in a more residential area?  Let's take a look at how the demand changes for a station in the Marcy Holmes neighborhood, just across the river from downtown, and down the street from the University of Minnesota."
    },
    {
      "metadata": {
        "trusted": true,
        "_uuid": "4f5d65295599829d871fe6730a91782f98d2b66d",
        "collapsed": true
      },
      "cell_type": "code",
      "source": "station_name = '6th Ave SE & University Ave'\n\n# Plot demand at 6th Ave SE & University Ave\nplt.figure()\nplt.subplot(2, 1, 1)\ninds = trips_hp['Outbound trips'].index==station_name\nplt.plot(trips_hp['Outbound trips'].loc[inds,:].values[0])\nplt.plot(trips_hp['Inbound trips'].loc[inds,:].values[0])\nplt.xticks(np.arange(0, 25, 6))\nplt.xlabel('Hour')\nplt.ylabel('Average\\nNumber of trips')\nplt.legend(['Outbound', 'Inbound'])\nplt.title('Trips at '+station_name)\nplt.show()\n\n# Plot difference in demand at 6th Ave SE & University Ave\nplt.subplot(2, 1, 2)\ninds = trips_hp['Difference'].index==station_name\nplt.plot(trips_hp['Difference'].loc[inds,:].values[0], 'y')\nplt.fill_between(np.arange(24), 0, \n                 trips_hp['Difference'].loc[inds,:].values[0],\n                 color='yellow', alpha=0.2)\nplt.xticks(np.arange(0, 25, 6))\nplt.xlabel('Hour')\nplt.ylabel('Average Difference\\n(Inbound - Outbound)')\nplt.show()",
      "execution_count": null,
      "outputs": []
    },
    {
      "metadata": {
        "_uuid": "543e9d5cebb561c6790c9d668fda9f1f215412e6"
      },
      "cell_type": "markdown",
      "source": "Here the pattern is the opposite - more trips depart from the station in the morning and end there in the afternoon.  There's also a lot more inbound trips late into the evening.  That's probably students from the Univeristy of Minnesota coming home.\n\nBut instead of looking through all 202 stations individually, let's just plot on a map how the difference in demand changes across the day at all stations.  In the map below, drag the slider to see how station demands change over the course of the day.\n\n(Note: you might want to pan the map a bit before messing with the slider.  It gets a bit glitchy otherwise.)"
    },
    {
      "metadata": {
        "trusted": true,
        "_uuid": "7b45a8f6f80a6f5313b04f1a4f95e2a2791eb6c7",
        "scrolled": false,
        "collapsed": true
      },
      "cell_type": "code",
      "source": "def HourSlider(loc, val, title='', height=500, width=800,\n               palette=Viridis256, symmetric_color=False):\n    \"\"\"Plot map of points w/ values which change hourly\n    \n    Parameters\n    ----------\n    loc : pd.DataFrame\n        Locations and names of stations.\n        Must have Name, Latitude, and Longitude columns\n        Size: (Nstations, 3)\n    val : pd.DataFrame\n        Values which change hourly\n        Size: (Nstations, Nhours)\n        \n    Returns\n    -------\n    bokeh.models.layouts.Column\n    Bokeh layout with the plot and slider\n    \"\"\"\n    \n    # On hover, show station name\n    tooltips = [(\"Station\", loc.Name)]\n\n    # Plot trips\n    V = np.transpose(val.values)\n    p, src = MapPoints(loc.Latitude, loc.Longitude, \n                       tooltips=tooltips, color=V[12,:],\n                       size=10*np.sqrt(np.abs(V[12,:])),\n                       symmetric_color=symmetric_color,\n                       palette=palette, title=title, \n                       height=height, width=width)\n    \n    # Make slider to control hour\n    cb = CustomJS(args=dict(source=src, colors=V), code=\"\"\"\n        var h = cb_obj.value;\n        var c = source.data['color'];\n        var s = source.data['size'];\n        for (var i = 0; i < c.length; i++) {\n            c[i] = colors[h][i];\n            s[i] = 10*Math.sqrt(Math.abs(colors[h][i]));\n        }\n        source.change.emit();\n    \"\"\")\n    slider = Slider(start=0, end=23, \n                    value=12, step=1, title=\"Hour\")\n    slider.js_on_change('value', cb)\n    \n    # Return figure w/ slider\n    return column(p, slider)\n\n# Outbound\np1 = HourSlider(stations.sort_values('Name'), \n                trips_hp['Outbound trips'], \n                title='Number of Outbound Trips, by Hour')\ntab1 = Panel(child=p1, title=\"Outbound\")\n\n# Inbound\np2 = HourSlider(stations.sort_values('Name'), \n                trips_hp['Inbound trips'], \n                title='Number of Inbound Trips, by Hour')\ntab2 = Panel(child=p2, title=\"Inbound\")\n\n# Difference\np3 = HourSlider(stations.sort_values('Name'), \n                trips_hp['Difference'], \n                title='Difference (Inbound - Outbound), by Hour',\n                palette=brewer['Spectral'][11],\n                symmetric_color=True)\ntab3 = Panel(child=p3, title=\"Difference\")\n\n# Show all tabs\nshow(Tabs(tabs=[tab3, tab1, tab2]))",
      "execution_count": null,
      "outputs": []
    },
    {
      "metadata": {
        "_uuid": "3026e15d79d6bf38e07289a65f262c870a167520"
      },
      "cell_type": "markdown",
      "source": "There's a pretty obvious commuter trend.  Stations downtown and at the Univeristy of Minnesota have more incoming rides during the morning rush hour (~7-8am), while residential areas surrounding downtown have more outbound rides.  During the evening commute however (~4-5pm), stations downtown and at the U of M are depleted and there is an influx of rides to stations in surrounding residential areas.\n\nThis pattern can actually work in Nice Ride's favor.  Suppose a station has a bunch of bikes leaving in the morning.  As long as there were lots of bikes there in the morning, if they all come back in the evening, then that's great for Nice Ride - they don't have to re-distribute the bikes to that station! The only time when bike distribution problems arise is when (1) there is an imbalance in the ride distribution on average, or (2) there aren't enough docks at a station to buffer the daily fluxuations in demand at that station. \n\nEarlier we looked at which stations have imbalances in the ride distribution on average (the horizontal bar plot with difference in demand and # docks for each station).  That analysis tells us about which stations we can expect to see become depleted over the course of the day, and *not* be replenished, or vice versa.  This problem can be alleviated at a given station by increasing the number of docks at a station, but that won't *fix* the problem.  Even with a large number of docks at a station, the imbalance will add up over time.  No matter what, Nice Ride will have to re-distribute bikes to/from these stations.  That's why we shouldn't worry as much about trying to match the number of docks at a station to its demand difference on average.  However, the other problem *can* be fixed by optimizing the number of docks at each station.  \n\n<a id='cumulative-difference'></a>\n### Cumulative difference in demand\n\nThat second problem is the issue of the demand changing over time.  Even when a station has an even balance in inbound to outbund trips on average, we want there to be enough docks at a station to buffer imbalances that happen over the course of a day.  For example, suppose a station has, on average, 10 outbound rentals in the morning, and then 10 inbound rentals in the afternoon.  There's a perfect balance on average, so Nice Ride doesn't have to worry too much about re-distributing bikes to or from that station.  \n\nBut only if the station has enough docks!  What if the station only has 5 docks?  Then the station will run out of available bikes halfway through the morning, and Nice Ride will have to bring 5 bikes to the station from some other station so that more people can rent from that station.  If they don't, Nice Ride will miss out on revenue!  And in the afternoon, the station will fill up, and Nice Ride will have to take 5 bikes *away* from the station to a different station, so that there are empty docks where people can end their rides.  If they don't, customers will be pissed that they can't end their ride where they wanted to.  So if the station doesn't have enough docks, Nice Ride will have to re-distribute bikes to and from that station *every day!*\n\nWe need to optimize the number of docks at each station in order to minimize the amount of bike re-distribution that's required.  To do that, we'll take a look at the cumulative difference in demand at each station.  The cumulative difference in demand is, at a given time of day, how many more (or less) bikes are at station than were there at the beginning of the day.  Using this analysis, we can answer some important questions about bike re-distribution of bikes at each station:\n- Which stations have a large imbalance?\n- In which direction is that imbalance? (i.e. does Nice Ride need to bring bikes to that station, or take them away?)\n- When is that imbalance worst?\n- What is the optimal number of bikes to have at each station at the beginning of the day?\n- What is the optimal number of docks to have at each station?\n\nLet's compute the cumulative difference in demand at each station.  We'll also normalize by the number of days in the Nice Ride season, so that our values reflect how many bikes are at each station across time on an average day (relative to the number of bikes that were there at the beginning of the day)."
    },
    {
      "metadata": {
        "trusted": true,
        "_uuid": "b71c3dab21d1ee37b795adec8baef562bd2dccd2",
        "collapsed": true
      },
      "cell_type": "code",
      "source": "# Compute the cumulative difference in demand\ncdiff = trips_hp['Difference'].apply(np.cumsum, axis=1)",
      "execution_count": null,
      "outputs": []
    },
    {
      "metadata": {
        "_uuid": "306e158721443559bfa41c8ad932dc2e53c09ebd"
      },
      "cell_type": "markdown",
      "source": "What does the cumulative difference in demand look like for the station at the station at 6th Ave SE & University Ave, which we were looking at earlier?"
    },
    {
      "metadata": {
        "trusted": true,
        "_uuid": "27fa4c9a6d71f9d2d8e13f9b002e9b08bcd0eac5",
        "collapsed": true
      },
      "cell_type": "code",
      "source": "station_name = '6th Ave SE & University Ave'\n\n# Plot difference in demand at 6th Ave SE & University Ave\nplt.figure()\nplt.subplot(2, 1, 1)\ninds = trips_hp['Difference'].index==station_name\nplt.plot(trips_hp['Difference'].loc[inds,:].values[0], 'y')\nplt.fill_between(np.arange(24), 0, \n                 trips_hp['Difference'].loc[inds,:].values[0],\n                 color='yellow', alpha=0.2)\nplt.xticks(np.arange(0, 25, 6))\nplt.xlabel('Hour')\nplt.ylabel('Average Difference\\n(Inbound - Outbound)')\nplt.show()\n\n# Plot cumulative difference in demand at Lake Street & Knox Ave S\nplt.subplot(2, 1, 2)\nplt.plot(cdiff.loc[station_name, :].index,\n         cdiff.loc[station_name, :].values, 'b')\nplt.fill_between(cdiff.loc[station_name, :].index, 0,\n                 cdiff.loc[station_name, :].values,\n                 color='blue', alpha=0.2)\nplt.xticks(np.arange(0, 25, 6))\nplt.xlabel('Hour')\nplt.ylabel('Cumulative Difference\\n(Num bikes)')\nplt.show()",
      "execution_count": null,
      "outputs": []
    },
    {
      "metadata": {
        "_uuid": "08ecd11eaa586fa6e2c7e0878c252ddc6c8e1790"
      },
      "cell_type": "markdown",
      "source": "Looking at the cumulative demand difference makes it obvious that a lot of bikes are being taken away from this station during the morning, and then brought back in the evening.  So if Nice Ride doesn't re-distribute bikes to this station, there will be a lot fewer bikes here between 9a and 4p than there are at night.\n\nLet's plot the cumulative difference in demand at all stations over the course of a day.  Blue will show when a station usually has less bikes than it had at the beginning of the day, red will show when a station has more bikes than it started with, and white will show  when the station has about as many bikes as it started with."
    },
    {
      "metadata": {
        "trusted": true,
        "_uuid": "f37a9d9f5040a9a166057348abafc3327f6ed091",
        "scrolled": false,
        "collapsed": true
      },
      "cell_type": "code",
      "source": "# Sort stations by overall demand difference\ncdiff = cdiff.iloc[np.argsort(-np.sum(cdiff.values, axis=1)), :]\n\n# Plot cumulative difference for each station\nsns.set_style(\"dark\")\nplt.figure(figsize=(7, 35))\nplt.imshow(cdiff, \n           aspect='auto',\n           interpolation=\"nearest\")\nplt.set_cmap('seismic')\nmav = np.amax(np.abs(cdiff.values))\nplt.clim(-mav, mav)\ncbar = plt.colorbar()\ncbar.set_label('Number of bikes relative to beginning of day')\nplt.ylabel('Station')\nplt.xlabel('Hour')\nplt.xticks(np.arange(0, 24, 6))\nplt.yticks(np.arange(cdiff.shape[0]),\n           tuple([s[:15] for s in cdiff.index.tolist()]))\nplt.title('Average Number of Bikes at each station\\nrelative to start of day')\nplt.show()",
      "execution_count": null,
      "outputs": []
    },
    {
      "metadata": {
        "_uuid": "f233998bc34a21280382614498ccf508424dc6a2"
      },
      "cell_type": "markdown",
      "source": "From this plot we can see which stations have the largest imbalances of incoming to outbound rides (stations with dark red or blue), the direction of that imbalance (red=more bikes, blue=less bikes), and at what time during the day that imbalance is the worst.  \n\nUsing this matrix, we could work out the best times to move bikes between stations, how many to move, and between which stations.  Unfortunately the times at which Nice Ride actually re-distributed bikes isn't included in the historical datset, although that information could be collected from their [General Bikeshare Feed](https://api-core.niceridemn.org/gbfs/gbfs.json).\n\n<a id='optimal-initial-number'></a>\n### Optimal initial number of bikes\n\nWe can also use this cumulative difference information to figure out the optimal number of bikes to have at each station at the beginning of the day.  We want to minimize the amount of time that stations are empty when customers are wanting to rent, and the amount of time stations are full when customers are wanting to return their rentals.  To do that we'll define a \"loss\" function for each station.  This loss function takes a hypothetical initial number of bikes, and returns a value which is higher when a station is close to being full and there are more inbound trips than outbound trips, and also higher when a station is close to being empty and there are more outbound trips than inbound trips:\n\n$$ \nL(N_0) = \\int_t \\alpha \\max(0, D_t) \\exp ( N_0 + C_t - N_d ) - (1-\\alpha) \\min(0, D_t) \\exp ( - N_0 - C_t )  ~ dt\n$$\n\nwhere \n\n- $L(N_0)$ is the loss of starting with N_0 docks at the beginning of the day\n- $D_t$ is the demand difference at time $t$ (inbound rides minus outbound rides)\n- $C_t$ is the cumulative demand difference ($C_t = \\int_0^t D_x ~ dx$)\n- $N_d$ is the number of docks at the station\n- $\\alpha$ is a parameter which controls how bad it is for a station to be full vs being empty\n\nLet's look at each part of that overly-complicated equation.  The integral in the loss equation sums over all the hours of a day (but you could use a finer time bin if you wanted to).  The first half of what's inside the integral ($\\alpha \\max(0, D_t) \\exp ( N_0 + C(t) - N_d )$) is a value which will be large when the station is close to being full and there are more inbound rides than outbound rides.  $\\max(0, D_t)$ is just the difference in demand, but only when it's positive (and 0 when it's negative).  $N_0 + C(t) - N_d$ is the (negative of the) expected number of *empty docks* left at the station.  That way, when the expected number of empty docks at the station is very low, $\\exp ( N_0 + C_t - N_d )$ will be very high, and vice-versa.  So, when the expected number of empty docks at the station is low *and* the number of inbound trips is high, the value of $\\max(0, D_t) \\exp ( N_0 + C_t - N_d )$ will be large.\n\nBut we also want to penalize having an empty station when people want to rent bikes!  The second half of what's in the integral ($- (1-\\alpha) \\min(0, D_t) \\exp ( - N_0 - C_t )$) is a value which will be large when the station is close to being empty and there are more outbound rides than inbound rides.  $\\min(0, D_t)$ is the difference in demand, but only when it's negative (and 0 when it's positive).  $(- N_0 - C_t)$ is the (negative of the) expected number of bikes left at the station.  That way, when the expected number of bikes available at a station is low, $\\exp ( - N_0 - C_t )$ will be very high, and vice-versa.  So when the expected number of available bikes at the station is low *and* the number of outbound trips his high, the value of $- \\min(0, D_t) \\exp ( - N_0 - C_t )$ will be large.\n\nThe $\\alpha$ parameter controls how bad it is to have stations fill up with bikes compared to running out of bikes, and should take values between 0 and 1.  If $\\alpha<0.5$, that means we consider it \"more bad\" when the station is empty but there are people wanting to rent from that station than when it is full and people are wanting to end their rides there.  I'm going to set $\\alpha=0.3$, because to me it seems slightly worse to have a station be empty when someone wants to rent a bike than to have a station be full where someone wants to return a bike.  Either way the customer is pissed, but if the station they want to rent from is empty, they probably won't end up renting a bike, and Nice Ride will miss out on revenue.  If the station they want to return their bike to is full, they'll just have to find another station and return it there.\n\nLet's compute the optimal number of bikes for each station to have at the beginning of the day using that loss function."
    },
    {
      "metadata": {
        "trusted": true,
        "_uuid": "6ccf74c3774a0b14bb09c87f6e389b744cf3ebf0",
        "collapsed": true
      },
      "cell_type": "code",
      "source": "# Create dataframe to store optimal initial # bikes\nOptBikes = pd.DataFrame(index=trips_hp.index.tolist(), \n                        columns=['Opt Bikes'])\n\n# Set alpha\nalpha = 0.3\n\n# Compute optimal initial number of bikes\nfor s in OptBikes.index: #for each station,\n    Nd = stations.loc[stations.Name==s, 'Total docks'].values[0] #num docks @ this station\n    bL = np.inf #best loss so far \n    bB = Nd/2   #best #bikes for that loss\n    for N0 in range(Nd+1): #for each possible initial # of bikes,\n        L = 0 #loss w/ this # initial bikes\n        for h in np.arange(24): #for each hour,\n            Dt = trips_hp['Difference'].loc[s, h] #diff @ now\n            Ct = cdiff.loc[s, h] #cum diff @ now\n            L = ( L + #integrate the loss function!\n                  alpha*max(0,Dt)*np.exp(N0+Ct-Nd) -\n                  (1.0-alpha)*min(0,Dt)*np.exp(-N0-Ct))\n        if L<bL: #if best loss so far,\n            bL = L #save this loss \n            bB = N0 #and #bikes\n    OptBikes.loc[s,'Opt Bikes'] = bB",
      "execution_count": null,
      "outputs": []
    },
    {
      "metadata": {
        "_uuid": "47a615509df11db26bc070cbed71a25f0f29cdb4"
      },
      "cell_type": "markdown",
      "source": "Now we can see, for each station, the optimal number of bikes for Nice Ride to have at that station at the beginning of a day, such that the least amount of time passes when the station is empty but people want to rent from that station, or the station is full but people want to end their rentals there."
    },
    {
      "metadata": {
        "trusted": true,
        "_uuid": "e8166cdc88c8c59146e9cd66b70300e025b51ebc",
        "collapsed": true
      },
      "cell_type": "code",
      "source": "OptBikes",
      "execution_count": null,
      "outputs": []
    },
    {
      "metadata": {
        "_uuid": "6714eae216e24e6cca675cf5e350a1020af5512a"
      },
      "cell_type": "markdown",
      "source": "<a id='demand-range'></a>\n### Demand Range\n\nFinally, we can also compute the optimal number of docks for each station to have, given the cumulative difference in demand.  Well, ideally each station would have *infinite* docks.  So the best we can do is determine how to optimally *distribute* the docks Nice Ride has across their stations.\n\nEach station should have enough docks to buffer the daily fluxuations in bikes.  Specifically, to avoid re-distribution of bikes, a station needs to have (on average) as many docks as the difference between the maximum and minimum of its cumulative demand difference (or the demand range).  That's the difference between the two dashed lines in the plot below:"
    },
    {
      "metadata": {
        "trusted": true,
        "_uuid": "370ef913dc4db406b58b312132abe5dcc9a21cdc",
        "collapsed": true
      },
      "cell_type": "code",
      "source": "# Plot cumulative difference at 6th Ave SE & University Ave\nstation_name = '6th Ave SE & University Ave'\nplt.figure()\nH = cdiff.loc[station_name, :].index\nC = cdiff.loc[station_name, :].values\nplt.plot(H, C, 'b')\nplt.fill_between(H, 0, C, color='blue', alpha=0.2)\nplt.plot([0, 23], [max(C), max(C)], 'k--')\nplt.plot([0, 23], [min(C), min(C)], 'k--')\nplt.annotate(s='', xy=(13,min(C)), xytext=(13,max(C)), \n             arrowprops=dict(arrowstyle='<->'))\nplt.xticks(np.arange(0, 25, 6))\nplt.xlabel('Hour')\nplt.ylabel('Cumulative Difference\\n(Num bikes)')\nplt.show()",
      "execution_count": null,
      "outputs": []
    },
    {
      "metadata": {
        "_uuid": "24c311b597115702dcfdc9ea15405b4c8aa0c711"
      },
      "cell_type": "markdown",
      "source": "Let's compute the demand range for each station, and see how the distribution of demand ranges compare to the distribution of docks across all stations"
    },
    {
      "metadata": {
        "trusted": true,
        "scrolled": false,
        "_uuid": "7b1256131b470cb0f7d91ee4c394509d12828e5a",
        "collapsed": true
      },
      "cell_type": "code",
      "source": "# Create dataframe to store demand ranges\nrange_vs_docks = pd.DataFrame(index=stations['Name'].tolist(), \n                              columns=['Range', 'Docks'])\n\n# Compute demand range for each station\nfor s in range_vs_docks.index:\n    C = cdiff.loc[s, :].values\n    range_vs_docks.loc[s,'Range'] = max(C) - min(C)\n    D = stations.loc[stations.Name==s,'Total docks'].values[0]\n    range_vs_docks.loc[s,'Docks'] = D\n    \n# Normalize distributions\nrange_vs_docks = range_vs_docks.apply(lambda x: x/np.sum(x))\n    \n# Tidy the data for seaborn\ntidified = (\n    range_vs_docks\n       .stack()\n       .reset_index()\n       .rename(columns={'level_0': 'Name',\n                        'level_1': 'Distribution', \n                        0: 'Proportion'})\n)\n\n# Show the distributions\nplt.figure(figsize=(4.5, 35))\nstation_list = range_vs_docks.sort_values('Range', ascending=False).index.tolist()\nsns.barplot(y='Name', x='Proportion', hue='Distribution', \n            data=tidified, order=station_list)\nplt.title('Proportion Docks vs Demand Range')\nlocs, labels = plt.yticks()\nplt.yticks(locs, tuple([s[:15] for s in station_list]))\nplt.show()\n",
      "execution_count": null,
      "outputs": []
    },
    {
      "metadata": {
        "_uuid": "ad7b7d3d0b74f93561488a173e60117f5cdf3c03"
      },
      "cell_type": "markdown",
      "source": "There's not a great match between the number of docks and the demand range.  Ideally, those two distributions would look similar.  \n\nTODO: talk about how the # docks limits them (15 + incs of 4), etc, but say could be better, and also depends on the cost of re-distributing vs the cost of buying and maintaining more docks.\n\nTODO: Talk about how this is averaged over all days - in reality there's probably a difference based on *what* day (e.g. a weekday vs a weekend), whether the day is a holiday, the season/time of year, the weather, etc.  Mention how when building a system you want to start with a basic version and work up to more complicated stuff.  And mention that in a future post you'll build a machine learning algorithm to predict the demand at each station, and then use that to optimize re-distribution.  We could also use a machine learning algorithm to predict the # inbound - # outbound rides at any given moment in time, and the # bikes available at a station at any time, and use those values in that loss function when we wanted to compute  the optimal number of bikes for each station to have at the beginning of the day.\n"
    },
    {
      "metadata": {
        "_uuid": "0a49c40c3db35db0d5aecc12c13a7451033cdcef"
      },
      "cell_type": "markdown",
      "source": "<a id='flow'></a>\n## Flow\n\nTODO\n\nFlow Bokeh plot\n- show flow on station hover\n- Have Radio Button Group for [All, M-Th, F, Sat, Sun] \n- And a slider for hour of the day\n- Talk about interesting differences(Eg to/from downtown on a weekday morning vs night, Or to/from the lakes/parks weekday vs weekend)\n  \nCompute # bikes at each station? If that's not provided\n- Then visualize bike availability vs station\n"
    },
    {
      "metadata": {
        "_uuid": "10fc675938765abbb2f252a04f7ba738417ec315"
      },
      "cell_type": "markdown",
      "source": "<a id='memberships'></a>\n## Memberships\n\nBasic hist of memberships\n\nIs there a difference in the bike patterns between rides by people with a membership vs people without one?\n\nDifference in durations? times of day?\n\nTrip patterns?\n- Compute the transition (or trip) probability matrix for members and separately for non members\n- Does it significantly differ?\n- Or could bootstrap to get distributions for each trip, compute roc to get prob members take that trip more often (don't bother with significance testing unless there's one or two you are really interested in...)\n- Then find the M best stations to put ads at (the M stations which maximize the probability that a person with a riding pattern similar to people with memberships will see it)\n- Mention that this assumes that people who have bike patterns that are similar to those people with memberships are more likely to actually get memberships. And say that in fact what you would really want to do is do a/b testing or Bandit algorithm.\n"
    },
    {
      "metadata": {
        "_uuid": "e4901e767c211250408ef2281b8c25e22c456c48"
      },
      "cell_type": "markdown",
      "source": "<a id='ride-season'></a>\n## Ride Season\n\nTODO: talk about looking @ ride season (when it starts + ends etc)"
    },
    {
      "metadata": {
        "trusted": true,
        "collapsed": true,
        "_uuid": "765dee7faa0d47eb8569d112f46d8b4fa2cdb85e"
      },
      "cell_type": "code",
      "source": "# Show first and last rentals of the season\nprint('First rental: ', min(trips['Start date']))\nprint('Last rental: ', max(trips['Start date']))",
      "execution_count": null,
      "outputs": []
    },
    {
      "metadata": {
        "trusted": true,
        "_uuid": "340d998fbcaf35ef11093178cdfdcb74625ef4c4",
        "collapsed": true
      },
      "cell_type": "code",
      "source": "# Plot number of rides per month\nplt.figure()\nsns.countplot(trips['Start date'].dt.month)\nplt.xlabel('Month')\nplt.ylabel('Number of Trips')\nplt.title('Number of rentals by month in 2017')\nplt.show()",
      "execution_count": null,
      "outputs": []
    },
    {
      "metadata": {
        "trusted": true,
        "_uuid": "e1f51e507508cc07a8514ba40f9e4bcc717ab2da",
        "collapsed": true
      },
      "cell_type": "code",
      "source": "# Plot number of rides per week\nplt.figure(figsize=(6, 7))\nsns.countplot(y=trips['Start date'].dt.week)\nplt.ylabel('Week')\nplt.xlabel('Number of Trips')\nplt.title('Number of rentals by week in 2017')\nplt.show()",
      "execution_count": null,
      "outputs": []
    },
    {
      "metadata": {
        "trusted": true,
        "_uuid": "552c5c7e41fbf0af86eb8d3107bbd7ae452a30fd",
        "collapsed": true
      },
      "cell_type": "code",
      "source": "# Plot number of rides per day of the year\ntrips.groupby(trips['Start date'].dt.dayofyear)['Start date'].count().plot()\nplt.xlabel('Day of the year')\nplt.ylabel('Number of rentals')\nplt.title('Number of rentals by day of the year in 2017')\nplt.show()",
      "execution_count": null,
      "outputs": []
    },
    {
      "metadata": {
        "trusted": true,
        "_uuid": "9ae69051fd495622406017e792823649f000f48b",
        "collapsed": true
      },
      "cell_type": "code",
      "source": "# Plot number of rides per day of the week\nplt.figure()\nsns.countplot(trips['Start date'].dt.weekday)\nplt.xlabel('Day')\nplt.ylabel('Number of Trips')\nplt.title('Number of rentals by day of the week in 2017')\nplt.xticks(np.arange(7),\n           ['M', 'T', 'W', 'Th', 'F', 'Sa', 'Su'])\nplt.show()",
      "execution_count": null,
      "outputs": []
    },
    {
      "metadata": {
        "_uuid": "ad22fa040003ee73b20fb0feb45facd6beb2fd7f"
      },
      "cell_type": "markdown",
      "source": "TODO: Talk about \"do people ride less in the spring/fall just beacause, or because the weather isn't as nice?\"\n"
    },
    {
      "metadata": {
        "_uuid": "69349a236d4bda05f6438e9c48bfab11601e3bff"
      },
      "cell_type": "markdown",
      "source": "<a id='ride-durations'></a>\n## Ride durations\n\n? but look at that.  at least a histogram.\n\n"
    },
    {
      "metadata": {
        "_uuid": "74a033ca4c3b0eb8902f533366a0757dac520ea4"
      },
      "cell_type": "markdown",
      "source": "<a id='weather'></a>\n## Weather\n\nHow does riding activity depend on the weather?\n -Temperature, cloudy, and rain\n \n look at how it effects both \n - number of rides/day, and\n - ride durations\n \n should download historical weather data for Minneapolis, and ADD IT TO THE NICERIDE DATASET\n here are some possibilities:\n daily: https://www.climate.gov/maps-data/dataset/past-weather-zip-code-data-table\n "
    },
    {
      "metadata": {
        "_uuid": "74edddf0a9d92e4becdeb367ae8901ebaf1e1817"
      },
      "cell_type": "markdown",
      "source": "<a id='dependence-on-season'></a> \n ## Traffic dependence on season\n \n \"now that we have the weather data, we can get back to our question of why people ride less in the beginning/end of a season\"\nIs there a seasonal dependence in riding activity independent of the weather?\n- Look at residuals over season after regressing out weather\n- The idea is: do people just not wanna ride bikes as much in the fall even if it's nice out?\n- And talk about how the idea is to in a later post see if it would be profitable to keep their season going longer\n\nBTW i'd predict that riding activity, after controlling for weather, actually ramps up over the course of a season.\nwhich would mean it wouldn't be profitable to open *earlier* but it **would** be profitable to extend the riding season further into the fall.\n\n## Other\n\nTake a look at other rideshare EDAs for inspiration\n\n"
    }
  ],
  "metadata": {
    "kernelspec": {
      "display_name": "Python 3",
      "language": "python",
      "name": "python3"
    },
    "language_info": {
      "name": "python",
      "version": "3.6.6",
      "mimetype": "text/x-python",
      "codemirror_mode": {
        "name": "ipython",
        "version": 3
      },
      "pygments_lexer": "ipython3",
      "nbconvert_exporter": "python",
      "file_extension": ".py"
    }
  },
  "nbformat": 4,
  "nbformat_minor": 1
}